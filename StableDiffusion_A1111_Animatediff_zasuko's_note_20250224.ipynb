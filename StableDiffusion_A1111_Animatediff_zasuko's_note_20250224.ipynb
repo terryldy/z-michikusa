{
  "cells": [
    {
      "cell_type": "markdown",
      "metadata": {
        "id": "2d6jj_Vmg9_p"
      },
      "source": [
        "★事前準備★\n",
        "\n",
        "ご自分の「Googleドライブ」の「MyDrive」に 以下のフォルダ構成と\n",
        "\n",
        "任意でGoogleColab上の「Stable-Diffusion_WEB-UI（A1111）」で使用したいデータを格納してください。\n",
        "\n",
        "MyDrive\n",
        "\n",
        "└StableDiffusion\n",
        "\n",
        " 　└checkpoints　※使用したいモデルデータを格納\n",
        "\n",
        " 　└controlnet　※ツール用モデルを格納\n",
        "\n",
        " 　└embeddings　※EasyNegativeなどを格納\n",
        "\n",
        " 　└lora　※使用したいLoRAデータを格納\n",
        "\n",
        " 　└VAE　※使用したいVAEデータを格納\n",
        "\n",
        " 　└outputs　※生成データのコピー用受け皿フォルダ（フォルダのみでOK）\n",
        "\n",
        " ※ローカル環境等で使っているStyleを流用したい場合は、\n",
        "\n",
        " マイドライブの「StableDiffusion」フォルダに「styles.csv」のファイルを保存しておいてください。"
      ]
    },
    {
      "cell_type": "markdown",
      "metadata": {
        "id": "Z7-3iE4Ta8v0"
      },
      "source": [
        "★このノートブックの使い方★\n",
        "\n",
        "～～～～～～～～～～～～～～～～～～～～～～～～～～～～～～\n",
        "\n",
        "①まずメニュー項目の「ランタイム」から\n",
        " → ランタイムの変更（いずれかのGPUタイプを選択）\n",
        "\n",
        "②【01】の実行ボタン（▶）を押す、\n",
        "\n",
        "（▶）の左に✅が付いたら次の（▶）を順番に押していく\n",
        "\n",
        "※または「ランタイム」から「すべてのセルを実行」を実行する\n",
        "\n",
        "③【03】の処理が進み、 https://************.gradio.live\n",
        "と表示されたら、そのURLをクリック\n",
        "\n",
        "④WEB-UIを停止するときは【03】の（▶）を押して処理をクルクルを停止\n",
        "\n",
        "⑤再度WEB-UIを使用する際は、【03】の（▶）を押し③と同様\n",
        "\n",
        "～～～～～～～～～～～～～～～～～～～～～～～～～～～～～～\n",
        "\n",
        "\n",
        "以下、「StableDiffusion_WebUI A1111環境」の起動手順です。"
      ]
    },
    {
      "cell_type": "markdown",
      "metadata": {
        "id": "xaBMLZ3T6xDU"
      },
      "source": [
        "👇【01】Googleドライブのデータをこのノートブックへマウント（接続）\n",
        "\n",
        "※Googleドライブにある、checkpoint、LoRA、VAE、Embedding、ControlNet用のツールモデル等を参照できるようにする\n",
        "\n",
        "↓の（▶）を押し、出現するポップアップウィンドウから\n",
        "\n",
        "　 Googleドライブに接続 → 「アカウントの選択」 → 「アクセスを許可」"
      ]
    },
    {
      "cell_type": "code",
      "execution_count": 1,
      "metadata": {
        "id": "57uc9RXg2H0d",
        "colab": {
          "base_uri": "https://localhost:8080/"
        },
        "outputId": "d1df762d-e04e-46dd-aaac-7c95cb0f2942"
      },
      "outputs": [
        {
          "output_type": "stream",
          "name": "stdout",
          "text": [
            "Mounted at /content/drive\n"
          ]
        }
      ],
      "source": [
        "from google.colab import drive\n",
        "drive.mount('/content/drive')"
      ]
    },
    {
      "cell_type": "markdown",
      "metadata": {
        "id": "n5imcv6kBQqY"
      },
      "source": [
        "👇【02】WEB-UIと各種_拡張機能のクローン（起動前にあらかじめ導入）※お好みで増減可能"
      ]
    },
    {
      "cell_type": "code",
      "execution_count": null,
      "metadata": {
        "id": "RSEEtcqV23j6"
      },
      "outputs": [],
      "source": [
        "# Stable Diffusion Web-UIのクローン\n",
        "!git clone https://github.com/AUTOMATIC1111/stable-diffusion-webui.git\n",
        "%cd stable-diffusion-webui\n",
        "\n",
        "# 最新のWebUIを取得（エラー対策として追加）\n",
        "!git reset --hard\n",
        "!git checkout master\n",
        "!git pull\n",
        "\n",
        "# 依存関係をインストールする前に、requirements.txt を修正\n",
        "!sed -i '/pydantic/d' requirements.txt  # 既存の pydantic の記述を削除\n",
        "!echo -e \"\\npydantic==1.10.2\" >> requirements.txt  # pydanticのバージョンを固定\n",
        "\n",
        "# 依存関係をインストール\n",
        "!pip install -r requirements.txt\n",
        "\n",
        "# wandb を 0.15.12 にダウングレード（pydantic 2.x の要求を避ける）\n",
        "!pip uninstall -y wandb\n",
        "!pip install wandb==0.15.12\n",
        "\n",
        "# TensorFlow を削除（参考コードを元に追加）\n",
        "!rm -r /usr/local/lib/python3.11/dist-packages/tensorflow*\n",
        "\n",
        "# Transformers のキャッシュを Google Drive に保存（参考コードから追加）\n",
        "import os\n",
        "os.environ['TRANSFORMERS_CACHE'] = \"/content/drive/MyDrive/sd_cache/\"\n",
        "os.environ['TORCH_HOME'] = \"/content/drive/MyDrive/sd_cache/\"\n",
        "\n",
        "# Colab の Python 警告を無効化（参考コードより）\n",
        "os.environ['PYTHONWARNINGS'] = 'ignore'\n",
        "!sed -i 's@text = _formatwarnmsg(msg)@text =\"\"@g' /usr/lib/python3.11/warnings.py\n",
        "!sed -i 's@raise AttributeError(f\"module {module!r} has no attribute {name!r}\")@@g' /usr/local/lib/python3.11/dist-packages/jax/_src/deprecations.py\n",
        "\n",
        "# 拡張機能リポジトリのURLリスト\n",
        "extensions = [\n",
        "    \"https://github.com/chrisgoringe/Styles-Editor.git\",\n",
        "    \"https://github.com/Mikubill/sd-webui-controlnet.git\",\n",
        "    \"https://github.com/Bing-su/adetailer.git\",\n",
        "    \"https://github.com/thomasasfk/sd-webui-aspect-ratio-helper.git\",\n",
        "    \"https://github.com/Physton/sd-webui-prompt-all-in-one.git\",\n",
        "    \"https://github.com/Coyote-A/ultimate-upscale-for-automatic1111.git\",\n",
        "    \"https://github.com/continue-revolution/sd-webui-segment-anything.git\",\n",
        "    \"https://github.com/blue-pen5805/sdweb-easy-prompt-selector.git\",\n",
        "    \"https://github.com/AUTOMATIC1111/stable-diffusion-webui-wildcards.git\",\n",
        "\n",
        "    \"https://github.com/camenduru/webui-animatediff.git\",\n",
        "    \"https://github.com/deforum-art/sd-webui-deforum.git\"\n",
        "]\n",
        "\n",
        "# 拡張機能のクローン処理\n",
        "%cd /content/stable-diffusion-webui/extensions\n",
        "for ext in extensions:\n",
        "    !git clone {ext}\n",
        "%cd /content/stable-diffusion-webui\n",
        "\n",
        "#MP4形式の出力用に「ffpeg」をインストール\n",
        "%cd /content/stable-diffusion-webui/\n",
        "!venv\\Scripts\\activate\n",
        "!pip install imageio[ffmpeg]\n",
        "\n",
        "#GoogleドライブへHugingFace、CIVITAIから各種必要なモデルデータをDL\n",
        "%cd /content/stable-diffusion-webui/\n",
        "#!wget https://huggingface.co/conrevo/AnimateDiff-A1111/resolve/main/motion_module/mm_sd14_v1.safetensors --directory-prefix=/content/stable-diffusion-webui/extensions/webui-animatediff/model\n",
        "#!wget https://huggingface.co/conrevo/AnimateDiff-A1111/resolve/main/motion_module/mm_sd15_v1.safetensors --directory-prefix=/content/stable-diffusion-webui/extensions/webui-animatediff/model\n",
        "#!wget https://huggingface.co/conrevo/AnimateDiff-A1111/resolve/main/motion_module/mm_sd15_v2.safetensors --directory-prefix=/content/stable-diffusion-webui/extensions/webui-animatediff/model\n",
        "!wget https://huggingface.co/conrevo/AnimateDiff-A1111/resolve/main/motion_module/mm_sd15_v3.safetensors --directory-prefix=/content/stable-diffusion-webui/extensions/webui-animatediff/model\n"
      ]
    },
    {
      "cell_type": "markdown",
      "source": [
        "👇【03】WEB-UIの起動　（各種大容量データはGoogleドライブを参照する設定）\n",
        "\n",
        "処理が進み、 https://****.gradio.live と表示されたら、そのURLをクリック\n",
        "\n",
        "※生成した画像は自動的に/content/drive/MyDrive/StableDiffusion/outputs へ保存されます\n",
        "\n",
        "※起動オプション追記もお好みで可能です\n",
        "\n",
        "★ ↓の（▶）で WEB-UIの「起動」「停止」「再起動」を操作します。\n",
        "\n",
        "編集するにはダブルクリックするか Enter キーを押してください"
      ],
      "metadata": {
        "id": "96TfYXaa8Cac"
      }
    },
    {
      "cell_type": "code",
      "source": [
        "# 出力ディレクトリを設定するスクリプトを作成\n",
        "script_content = \"\"\"\n",
        "import os\n",
        "from modules import shared\n",
        "\n",
        "# Google Driveの出力ディレクトリを設定\n",
        "shared.opts.data['outdir_txt2img_samples'] = '/content/drive/MyDrive/StableDiffusion/outputs/txt2img-images'\n",
        "shared.opts.data['outdir_txt2img_grids'] = '/content/drive/MyDrive/StableDiffusion/outputs/txt2img-grids'\n",
        "shared.opts.data['outdir_img2img_samples'] = '/content/drive/MyDrive/StableDiffusion/outputs/img2img-images'\n",
        "shared.opts.data['outdir_img2img_grids'] = '/content/drive/MyDrive/StableDiffusion/outputs/img2img-grids'\n",
        "shared.opts.data['outdir_extras_images'] = '/content/drive/MyDrive/StableDiffusion/outputs/extras-images'\n",
        "\n",
        "print(\"出力ディレクトリの設定が完了しました。\")\n",
        "\"\"\"\n",
        "# スクリプトを保存\n",
        "script_path = \"/content/stable-diffusion-webui/scripts/set_output_dir.py\"\n",
        "with open(script_path, \"w\") as f:\n",
        "    f.write(script_content)\n",
        "\n",
        "#style.csvファイルコピー ※MyDrive/StableDiffusionに保存したファイルをコピーして、登録済みのStyleをForgeで使用可能にします\n",
        "!cp \"/content/drive/MyDrive/StableDiffusion/styles.csv\" \"/content/stable-diffusion-webui\"\n",
        "\n",
        "# WEB-UIの起動\n",
        "!python launch.py --share --no-half-vae --disable-nan-check \\\n",
        "  --ckpt-dir \"/content/drive/MyDrive/StableDiffusion/checkpoints\" \\\n",
        "  --embeddings-dir \"/content/drive/MyDrive/StableDiffusion/embeddings\" \\\n",
        "  --lora-dir \"/content/drive/MyDrive/StableDiffusion/lora\" \\\n",
        "  --vae-dir \"/content/drive/MyDrive/StableDiffusion/vae\" \\\n",
        "  --controlnet-dir \"/content/drive/MyDrive/StableDiffusion/controlnet\"\n"
      ],
      "metadata": {
        "id": "MsMWEZyO4W9i"
      },
      "execution_count": null,
      "outputs": []
    }
  ],
  "metadata": {
    "accelerator": "GPU",
    "colab": {
      "gpuType": "T4",
      "provenance": []
    },
    "kernelspec": {
      "display_name": "Python 3",
      "name": "python3"
    },
    "language_info": {
      "name": "python"
    }
  },
  "nbformat": 4,
  "nbformat_minor": 0
}