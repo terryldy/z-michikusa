{
  "cells": [
    {
      "cell_type": "markdown",
      "metadata": {
        "id": "view-in-github"
      },
      "source": [
        "<a href=\"https://colab.research.google.com/github/zasuo-michikusa/Google_Colab_StableDiffusion/blob/main/StableDiffusion_AnimateDiff_custom_ipynb_20240103.ipynb\" target=\"_parent\"><img src=\"https://colab.research.google.com/assets/colab-badge.svg\" alt=\"Open In Colab\"/></a>"
      ]
    },
    {
      "cell_type": "markdown",
      "metadata": {
        "id": "2d6jj_Vmg9_p"
      },
      "source": [
        "★事前準備★\n",
        "\n",
        "ご自分の「Googleドライブ」の「MyDrive」に 以下のフォルダ構成と\n",
        "\n",
        "任意でGoogleColab上の「Stable-Diffusion_WEB-UI（Forge）」で使用したいデータを格納してください。\n",
        "\n",
        "MyDrive\n",
        "\n",
        "└StableDiffusion\n",
        "\n",
        " 　└checkpoints　※使用したいモデルデータを格納\n",
        "\n",
        " 　└controlnet　※ツール用モデルを格納\n",
        "\n",
        " 　└embeddings　※EasyNegativeなどを格納\n",
        "\n",
        " 　└lora　※使用したいLoRAデータを格納\n",
        "\n",
        " 　└VAE　※使用したいVAEデータを格納\n",
        "\n",
        " 　└outputs　※生成データのコピー用受け皿フォルダ（フォルダのみでOK）"
      ]
    },
    {
      "cell_type": "markdown",
      "metadata": {
        "id": "Z7-3iE4Ta8v0"
      },
      "source": [
        "★このノートブックの使い方★\n",
        "\n",
        "～～～～～～～～～～～～～～～～～～～～～～～～～～～～～～\n",
        "\n",
        "①まずメニュー項目の「ランタイム」から\n",
        " → ランタイムの変更（いずれかのGPUタイプを選択）\n",
        "\n",
        "②【01】の実行ボタン（▶）を押す、\n",
        "\n",
        "（▶）の左に✅が付いたら次の（▶）を順番に押していく\n",
        "\n",
        "※または「ランタイム」から「すべてのセルを実行」を実行する\n",
        "\n",
        "③【06】の処理が進み、 https://************.gradio.live\n",
        "と表示されたら、そのURLをクリック\n",
        "\n",
        "④WEB-UIを停止するときは【05】の（▶）を押して処理をクルクルを停止\n",
        "\n",
        "⑤再度WEB-UIを使用する際は、【05】の（▶）を押し③と同様\n",
        "\n",
        "⑥生成したデータを保存する場合は【06】の（▶）を実行\n",
        "\n",
        "～～～～～～～～～～～～～～～～～～～～～～～～～～～～～～\n",
        "\n",
        "\n",
        "以下、「StableDiffusion_AnimateDiff環境」の起動手順です。"
      ]
    },
    {
      "cell_type": "markdown",
      "metadata": {
        "id": "xaBMLZ3T6xDU"
      },
      "source": [
        "👇【01】Googleドライブのデータをこのノートブックへマウント（接続）\n",
        "\n",
        "※Googleドライブにある、checkpoint、LoRA、VAE、Embedding、ControlNet用のツールモデル等を参照できるようにする\n",
        "\n",
        "↓の（▶）を押し、出現するポップアップウィンドウから\n",
        "\n",
        "　 Googleドライブに接続 → 「アカウントの選択」 → 「アクセスを許可」"
      ]
    },
    {
      "cell_type": "code",
      "execution_count": 1,
      "metadata": {
        "id": "57uc9RXg2H0d",
        "colab": {
          "base_uri": "https://localhost:8080/"
        },
        "outputId": "36b93ea6-4118-4554-96b6-5bfc7eb95fd1"
      },
      "outputs": [
        {
          "output_type": "stream",
          "name": "stdout",
          "text": [
            "Mounted at /content/drive\n"
          ]
        }
      ],
      "source": [
        "from google.colab import drive\n",
        "drive.mount('/content/drive')"
      ]
    },
    {
      "cell_type": "markdown",
      "metadata": {
        "id": "n5imcv6kBQqY"
      },
      "source": [
        "👇【02】WEB-UIと各種_拡張機能のクローン（起動前にあらかじめ導入）※お好みで増減可能"
      ]
    },
    {
      "cell_type": "code",
      "execution_count": 2,
      "metadata": {
        "id": "RSEEtcqV23j6",
        "colab": {
          "base_uri": "https://localhost:8080/"
        },
        "outputId": "811dacbe-777c-4e48-934d-1fb2238dbdd2"
      },
      "outputs": [
        {
          "output_type": "stream",
          "name": "stdout",
          "text": [
            "Cloning into 'stable-diffusion-webui-forge'...\n",
            "remote: Enumerating objects: 37946, done.\u001b[K\n",
            "remote: Counting objects: 100% (2787/2787), done.\u001b[K\n",
            "remote: Compressing objects: 100% (902/902), done.\u001b[K\n",
            "remote: Total 37946 (delta 2062), reused 2380 (delta 1839), pack-reused 35159\u001b[K\n",
            "Receiving objects: 100% (37946/37946), 43.96 MiB | 27.60 MiB/s, done.\n",
            "Resolving deltas: 100% (25963/25963), done.\n",
            "/content/stable-diffusion-webui-forge\n",
            "/content/stable-diffusion-webui-forge/extensions\n",
            "Cloning into 'Styles-Editor'...\n",
            "remote: Enumerating objects: 739, done.\u001b[K\n",
            "remote: Counting objects: 100% (223/223), done.\u001b[K\n",
            "remote: Compressing objects: 100% (135/135), done.\u001b[K\n",
            "remote: Total 739 (delta 112), reused 104 (delta 87), pack-reused 516\u001b[K\n",
            "Receiving objects: 100% (739/739), 143.52 KiB | 2.87 MiB/s, done.\n",
            "Resolving deltas: 100% (389/389), done.\n",
            "/content/stable-diffusion-webui-forge\n",
            "/content/stable-diffusion-webui-forge/extensions\n",
            "Cloning into 'adetailer'...\n",
            "remote: Enumerating objects: 2567, done.\u001b[K\n",
            "remote: Counting objects: 100% (948/948), done.\u001b[K\n",
            "remote: Compressing objects: 100% (245/245), done.\u001b[K\n",
            "remote: Total 2567 (delta 741), reused 751 (delta 678), pack-reused 1619\u001b[K\n",
            "Receiving objects: 100% (2567/2567), 363.80 KiB | 4.55 MiB/s, done.\n",
            "Resolving deltas: 100% (1497/1497), done.\n",
            "/content/stable-diffusion-webui-forge\n",
            "/content/stable-diffusion-webui-forge/extensions\n",
            "Cloning into 'sd-webui-aspect-ratio-helper'...\n",
            "remote: Enumerating objects: 254, done.\u001b[K\n",
            "remote: Counting objects: 100% (101/101), done.\u001b[K\n",
            "remote: Compressing objects: 100% (47/47), done.\u001b[K\n",
            "remote: Total 254 (delta 65), reused 68 (delta 54), pack-reused 153\u001b[K\n",
            "Receiving objects: 100% (254/254), 408.30 KiB | 3.93 MiB/s, done.\n",
            "Resolving deltas: 100% (120/120), done.\n",
            "/content/stable-diffusion-webui-forge\n",
            "/content/stable-diffusion-webui-forge/extensions\n",
            "Cloning into 'sd-webui-prompt-all-in-one'...\n",
            "remote: Enumerating objects: 4987, done.\u001b[K\n",
            "remote: Counting objects: 100% (553/553), done.\u001b[K\n",
            "remote: Compressing objects: 100% (147/147), done.\u001b[K\n",
            "remote: Total 4987 (delta 452), reused 449 (delta 406), pack-reused 4434\u001b[K\n",
            "Receiving objects: 100% (4987/4987), 20.55 MiB | 24.78 MiB/s, done.\n",
            "Resolving deltas: 100% (2954/2954), done.\n",
            "/content/stable-diffusion-webui-forge\n",
            "/content/stable-diffusion-webui-forge/extensions\n",
            "Cloning into 'ultimate-upscale-for-automatic1111'...\n",
            "remote: Enumerating objects: 323, done.\u001b[K\n",
            "remote: Counting objects: 100% (98/98), done.\u001b[K\n",
            "remote: Compressing objects: 100% (50/50), done.\u001b[K\n",
            "remote: Total 323 (delta 40), reused 84 (delta 30), pack-reused 225\u001b[K\n",
            "Receiving objects: 100% (323/323), 32.24 MiB | 41.11 MiB/s, done.\n",
            "Resolving deltas: 100% (115/115), done.\n",
            "/content/stable-diffusion-webui-forge\n",
            "/content/stable-diffusion-webui-forge/extensions\n",
            "Cloning into 'sd-webui-segment-anything'...\n",
            "remote: Enumerating objects: 1109, done.\u001b[K\n",
            "remote: Counting objects: 100% (370/370), done.\u001b[K\n",
            "remote: Compressing objects: 100% (140/140), done.\u001b[K\n",
            "remote: Total 1109 (delta 254), reused 245 (delta 229), pack-reused 739\u001b[K\n",
            "Receiving objects: 100% (1109/1109), 451.05 KiB | 4.29 MiB/s, done.\n",
            "Resolving deltas: 100% (602/602), done.\n",
            "/content/stable-diffusion-webui-forge\n",
            "/content/stable-diffusion-webui-forge/extensions\n",
            "Cloning into '/content/stable-diffusion-webui-forge/extensions/sd-webui-animatediff'...\n",
            "remote: Enumerating objects: 852, done.\u001b[K\n",
            "remote: Counting objects: 100% (852/852), done.\u001b[K\n",
            "remote: Compressing objects: 100% (301/301), done.\u001b[K\n",
            "remote: Total 852 (delta 557), reused 834 (delta 539), pack-reused 0\u001b[K\n",
            "Receiving objects: 100% (852/852), 265.35 KiB | 3.36 MiB/s, done.\n",
            "Resolving deltas: 100% (557/557), done.\n",
            "/content/stable-diffusion-webui-forge\n",
            "/content/stable-diffusion-webui-forge/extensions\n",
            "Cloning into 'sd-webui-deforum'...\n",
            "remote: Enumerating objects: 15485, done.\u001b[K\n",
            "remote: Counting objects: 100% (3603/3603), done.\u001b[K\n",
            "remote: Compressing objects: 100% (1211/1211), done.\u001b[K\n",
            "remote: Total 15485 (delta 2495), reused 3332 (delta 2374), pack-reused 11882\u001b[K\n",
            "Receiving objects: 100% (15485/15485), 129.44 MiB | 33.00 MiB/s, done.\n",
            "Resolving deltas: 100% (9685/9685), done.\n",
            "/content/stable-diffusion-webui-forge\n"
          ]
        }
      ],
      "source": [
        "# Stable Diffusion Web-UI Forge のクローン（インストール）\n",
        "!git clone https://github.com/lllyasviel/stable-diffusion-webui-forge.git\n",
        "%cd /content/stable-diffusion-webui-forge\n",
        "\n",
        "# Styles-Editorのクローン\n",
        "%cd /content/stable-diffusion-webui-forge/extensions\n",
        "!git clone https://github.com/chrisgoringe/Styles-Editor.git\n",
        "%cd /content/stable-diffusion-webui-forge\n",
        "\n",
        "# adetailerのクローン\n",
        "%cd /content/stable-diffusion-webui-forge/extensions\n",
        "!git clone https://github.com/Bing-su/adetailer.git\n",
        "%cd /content/stable-diffusion-webui-forge\n",
        "\n",
        "# aspect-ratio-helperのクローン\n",
        "%cd /content/stable-diffusion-webui-forge/extensions\n",
        "!git clone https://github.com/thomasasfk/sd-webui-aspect-ratio-helper.git\n",
        "%cd /content/stable-diffusion-webui-forge\n",
        "\n",
        "# prompt-all-in-oneのクローン\n",
        "%cd /content/stable-diffusion-webui-forge/extensions\n",
        "!git clone https://github.com/Physton/sd-webui-prompt-all-in-one.git\n",
        "%cd /content/stable-diffusion-webui-forge\n",
        "\n",
        "# ultimate-upscale-for-automatic1111のクローン\n",
        "%cd /content/stable-diffusion-webui-forge/extensions\n",
        "!git clone https://github.com/Coyote-A/ultimate-upscale-for-automatic1111.git\n",
        "%cd /content/stable-diffusion-webui-forge\n",
        "\n",
        "# SegmentAnythingのクローン\n",
        "%cd /content/stable-diffusion-webui-forge/extensions\n",
        "!git clone https://github.com/continue-revolution/sd-webui-segment-anything.git\n",
        "%cd /content/stable-diffusion-webui-forge\n",
        "\n",
        "# AnimateDiff（Forge版）のクローン\n",
        "%cd /content/stable-diffusion-webui-forge/extensions\n",
        "!git clone https://github.com/continue-revolution/sd-forge-animatediff.git /content/stable-diffusion-webui-forge/extensions/sd-webui-animatediff\n",
        "%cd /content/stable-diffusion-webui-forge\n",
        "\n",
        "# Deforumのクローン\n",
        "%cd /content/stable-diffusion-webui-forge/extensions\n",
        "!git clone https://github.com/deforum-art/sd-webui-deforum.git\n",
        "%cd /content/stable-diffusion-webui-forge\n"
      ]
    },
    {
      "cell_type": "markdown",
      "metadata": {
        "id": "UqQk7wCtWgzB"
      },
      "source": [
        "👇【03】MP4形式の出力用に「ffpeg」をインストール"
      ]
    },
    {
      "cell_type": "code",
      "execution_count": null,
      "metadata": {
        "id": "Y81eKNE1WJu-"
      },
      "outputs": [],
      "source": [
        "%cd /content/stable-diffusion-webui-forge/\n",
        "!venv\\Scripts\\activate\n",
        "!pip install imageio[ffmpeg]"
      ]
    },
    {
      "cell_type": "markdown",
      "metadata": {
        "id": "qC6V3jX_y-5A"
      },
      "source": [
        "👇【04】GoogleドライブへHugingFace、CIVITAIから各種必要なモデルデータをDL\n",
        "\n",
        "「AnimateDiff」用の「MotionModel」\n",
        "\n",
        "「SegmentAnything」用の「sam」「GroundingDINO」"
      ]
    },
    {
      "cell_type": "code",
      "execution_count": null,
      "metadata": {
        "id": "CQALw2pL_rZO"
      },
      "outputs": [],
      "source": [
        "%cd /content/stable-diffusion-webui-forge/\n",
        "\n",
        "!wget https://huggingface.co/conrevo/AnimateDiff-A1111/resolve/main/motion_module/mm_sd14_v1.safetensors --directory-prefix=/content/stable-diffusion-webui-forge/extensions/sd-webui-animatediff/model\n",
        "\n",
        "!wget https://huggingface.co/conrevo/AnimateDiff-A1111/resolve/main/motion_module/mm_sd15_v1.safetensors --directory-prefix=/content/stable-diffusion-webui-forge/extensions/sd-webui-animatediff/model\n",
        "\n",
        "!wget https://huggingface.co/conrevo/AnimateDiff-A1111/resolve/main/motion_module/mm_sd15_v2.safetensors --directory-prefix=/content/stable-diffusion-webui-forge/extensions/sd-webui-animatediff/model\n",
        "\n",
        "!wget https://huggingface.co/conrevo/AnimateDiff-A1111/resolve/main/motion_module/mm_sd15_v3.safetensors --directory-prefix=/content/stable-diffusion-webui-forge/extensions/sd-webui-animatediff/model\n",
        "\n",
        "!wget https://huggingface.co/conrevo/AnimateDiff-A1111/resolve/main/motion_module/mm_sdxl_hs.safetensors?download=true --directory-prefix=/content/stable-diffusion-webui-forge/extensions/sd-webui-animatediff/model\n",
        "\n",
        "!wget https://huggingface.co/conrevo/AnimateDiff-A1111/resolve/main/motion_module/mm_sdxl_v10_beta.safetensors?download=true --directory-prefix=/content/stable-diffusion-webui-forge/extensions/sd-webui-animatediff/model\n",
        "\n",
        "!wget https://dl.fbaipublicfiles.com/segment_anything/sam_vit_h_4b8939.pth --directory-prefix=/content/stable-diffusion-webui-forge/extensions/sd-webui-segment-anything/models/sam\n",
        "\n",
        "!wget https://huggingface.co/ShilongLiu/GroundingDINO/resolve/main/GroundingDINO_SwinB.cfg.py?download=true --directory-prefix=/content/stable-diffusion-webui-forge/extensions/sd-webui-segment-anything/models/grounding-dino\n",
        "\n",
        "!wget https://huggingface.co/ShilongLiu/GroundingDINO/resolve/main/GroundingDINO_SwinT_OGC.cfg.py?download=true --directory-prefix=/content/stable-diffusion-webui-forge/extensions/sd-webui-segment-anything/models/grounding-dino\n",
        "\n",
        "!wget https://huggingface.co/ShilongLiu/GroundingDINO/resolve/main/groundingdino_swint_ogc.pth?download=true --directory-prefix=/content/stable-diffusion-webui-forge/extensions/sd-webui-segment-anything/models/grounding-dino\n",
        "\n",
        "!wget https://huggingface.co/ShilongLiu/GroundingDINO/resolve/main/groundingdino_swinb_cogcoor.pth?download=true --directory-prefix=/content/stable-diffusion-webui-forge/extensions/sd-webui-segment-anything/models/grounding-dino\n",
        "\n",
        "#下記必要な場合は場合は先頭の「!wget」の前の「#」を削除して有効化してください\n",
        "\n",
        "#StableVideoDiffsion用のモデル\n",
        "#!wget https://civitai.com/api/download/models/329995 --directory-prefix=/content/stable-diffusion-webui-forge/models/svd\n",
        "\n",
        "#Zero123用のモデル\n",
        "#!wget https://huggingface.co/stabilityai/stable-zero123/resolve/main/stable_zero123.ckpt?download=true --directory-prefix=/content/stable-diffusion-webui-forge/models/z123\n",
        "\n",
        "\n"
      ]
    },
    {
      "cell_type": "markdown",
      "metadata": {
        "id": "3w5vN2jGZOcq"
      },
      "source": [
        "👇【05】WEB-UIの起動（各種大容量データはGoogleドライブを参照する設定）\n",
        "\n",
        " ※生成した画像は自動的に/content/drive/MyDrive/StableDiffusion/outputs へ保存されます\n",
        "\n",
        " ※起動オプション追記もお好みで可能です\n",
        "\n",
        "★ ↓の（▶）で WEB-UIの「起動」「停止」「再起動」を操作します。\n",
        "\n"
      ]
    },
    {
      "cell_type": "code",
      "execution_count": null,
      "metadata": {
        "id": "epSTotC65qBC"
      },
      "outputs": [],
      "source": [
        "# スクリプトの内容を全体として実行\n",
        "!git clone https://github.com/lllyasviel/stable-diffusion-webui-forge.git\n",
        "%cd /content/stable-diffusion-webui-forge\n",
        "\n",
        "# 各種拡張機能のクローン\n",
        "%cd /content/stable-diffusion-webui-forge/extensions\n",
        "!git clone https://github.com/chrisgoringe/Styles-Editor.git\n",
        "!git clone https://github.com/Bing-su/adetailer.git\n",
        "!git clone https://github.com/thomasasfk/sd-webui-aspect-ratio-helper.git\n",
        "!git clone https://github.com/Physton/sd-webui-prompt-all-in-one.git\n",
        "!git clone https://github.com/Coyote-A/ultimate-upscale-for-automatic1111.git\n",
        "!git clone https://github.com/continue-revolution/sd-webui-segment-anything.git\n",
        "!git clone https://github.com/continue-revolution/sd-forge-animatediff.git /content/stable-diffusion-webui-forge/extensions/sd-webui-animatediff\n",
        "!git clone https://github.com/deforum-art/sd-webui-deforum.git\n",
        "%cd /content/stable-diffusion-webui-forge\n",
        "\n",
        "# 出力ディレクトリを設定するスクリプトを作成\n",
        "script_content = \"\"\"\n",
        "import os\n",
        "from modules import shared\n",
        "\n",
        "# Google Driveの出力ディレクトリを設定\n",
        "shared.opts.data['outdir_txt2img_samples'] = '/content/drive/MyDrive/StableDiffusion/outputs/txt2img-images'\n",
        "shared.opts.data['outdir_txt2img_grids'] = '/content/drive/MyDrive/StableDiffusion/outputs/txt2img-grids'\n",
        "shared.opts.data['outdir_img2img_samples'] = '/content/drive/MyDrive/StableDiffusion/outputs/img2img-images'\n",
        "shared.opts.data['outdir_img2img_grids'] = '/content/drive/MyDrive/StableDiffusion/outputs/img2img-grids'\n",
        "shared.opts.data['outdir_extras_images'] = '/content/drive/MyDrive/StableDiffusion/outputs/extras-images'\n",
        "\n",
        "print(\"出力ディレクトリの設定が完了しました。\")\n",
        "\"\"\"\n",
        "\n",
        "# スクリプトを保存\n",
        "script_path = \"/content/stable-diffusion-webui-forge/scripts/set_output_dir.py\"\n",
        "with open(script_path, \"w\") as f:\n",
        "    f.write(script_content)\n",
        "\n",
        "# 設定スクリプトの実行とWEB-UIの起動\n",
        "!python /content/stable-diffusion-webui-forge/scripts/set_output_dir.py\n",
        "!python launch.py --share --no-half-vae --disable-nan-check \\\n",
        "  --ckpt-dir \"/content/drive/MyDrive/StableDiffusion/checkpoints\" \\\n",
        "  --embeddings-dir \"/content/drive/MyDrive/StableDiffusion/embeddings\" \\\n",
        "  --lora-dir \"/content/drive/MyDrive/StableDiffusion/lora\" \\\n",
        "  --vae-dir \"/content/drive/MyDrive/StableDiffusion/vae\" \\\n",
        "  --controlnet-dir \"/content/drive/MyDrive/StableDiffusion/controlnet\"\n",
        "\n"
      ]
    }
  ],
  "metadata": {
    "accelerator": "GPU",
    "colab": {
      "gpuType": "V100",
      "provenance": []
    },
    "kernelspec": {
      "display_name": "Python 3",
      "name": "python3"
    },
    "language_info": {
      "name": "python"
    }
  },
  "nbformat": 4,
  "nbformat_minor": 0
}