{
  "cells": [
    {
      "cell_type": "markdown",
      "metadata": {
        "id": "rmCPmqFL6hCQ"
      },
      "source": [
        "# 🍀LoRA作成に使う「学習用画像」の「キャプションファイル」の作成\n",
        "### ※Caption file maker by Zasuko Michikusa\n",
        "🌱This is based on the work of [\n",
        "dataset-tag-editor-standalone](https://github.com/toshiaki1729/dataset-tag-editor-standalone) Thank you!"
      ]
    },
    {
      "cell_type": "code",
      "source": [
        "#@title # 🌎＜Step1＞ GoogleDrive 接続と環境構築\n",
        "#@markdown ###🐣あらかじめ下記のフォルダ構成と必要ファイルを用意しましょう！\n",
        "\n",
        "#@markdown ## 🌎 Google Drive 内へのデータ格納\n",
        "#@markdown #📁マイドライブ\n",
        "#@markdown #└📁checkpoint　← 🔀ベースに使用するCheckpointモデルを格納\n",
        "#@markdown #└📁train_img　 ← 📚LoRAの学習に使う画像を格納\n",
        "\n",
        "from google.colab import drive\n",
        "drive.mount('/content/drive')\n",
        "\n",
        "# 🌱環境構築と「dataset-tag-editor」 のインストール\n",
        "\n",
        "# Pythonのバージョン確認\n",
        "!python --version\n",
        "\n",
        "# 必要なライブラリのインストール\n",
        "!pip install torch torchvision transformers datasets\n",
        "\n",
        "# gradio と pydantic を含む、依存ライブラリのバージョンを固定\n",
        "!pip install gradio==4.28.3 pydantic==2.9.2\n",
        "\n",
        "# 追加の依存ライブラリをインストール\n",
        "!pip install tqdm timm print-color fastapi uvicorn\n",
        "\n",
        "# マイドライブ内にdataset-tag-editorをインストール\n",
        "%cd /content/drive/MyDrive/\n",
        "!git clone https://github.com/toshiaki1729/dataset-tag-editor-standalone.git\n",
        "\n",
        "# dataset-tag-editorのインストールを実行\n",
        "%cd /content/drive/MyDrive/dataset-tag-editor-standalone\n",
        "\n",
        "print(\"🌎GoogleDriveとの接続と環境構築が完了しました！ 🌱＜Step2＞に進んでください。\")"
      ],
      "metadata": {
        "id": "ZowEnTtilNOE"
      },
      "execution_count": null,
      "outputs": []
    },
    {
      "cell_type": "code",
      "execution_count": null,
      "metadata": {
        "id": "mlCu1T4aug9m",
        "cellView": "form"
      },
      "outputs": [],
      "source": [
        "#@title # 📋＜Step2＞ キャプションの作成（dataset-tag-editor）\n",
        "\n",
        "# 🍀dataset-tag-editor を起動（キャプション作成用GUI）\n",
        "\n",
        "#@markdown ####※下記ログに👇こんな感じのリンクが表示されたらクリックして起動\n",
        "#@markdown #####（例）Running on public URL: https://KLcf394cb0f5d5059.gradio.live（←gradio.liveがついている方）\n",
        "\n",
        "# dataset-tag-editorの起動ディレクトリに移動\n",
        "%cd /content/drive/MyDrive/dataset-tag-editor-standalone\n",
        "\n",
        "# 必要な依存ライブラリを正しいバージョンでインストール\n",
        "!pip uninstall pydantic fastapi gradio -y\n",
        "!pip install gradio==4.28.3\n",
        "!pip install fastapi==0.112.4\n",
        "!pip install pydantic==2.9.2\n",
        "\n",
        "# その他の依存ライブラリをrequirements.txtからインストール\n",
        "!pip install -r requirements.txt\n",
        "\n",
        "# dataset-tag-editorの起動\n",
        "!python3 scripts/launch.py --share\n"
      ]
    }
  ],
  "metadata": {
    "accelerator": "GPU",
    "colab": {
      "gpuType": "T4",
      "provenance": []
    },
    "kernelspec": {
      "display_name": "Python 3",
      "name": "python3"
    },
    "language_info": {
      "name": "python"
    }
  },
  "nbformat": 4,
  "nbformat_minor": 0
}