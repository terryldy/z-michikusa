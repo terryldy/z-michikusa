{
{
    {
      "cell_type": "markdown",
      "metadata": {
        "id": "xaBMLZ3T6xDU"
      },
      "source": [
        "👇【01】Googleドライブのデータをこのノートブックへマウント（接続）\n",
        "\n",
        "※Googleドライブにある、checkpoint、LoRA、VAE、Embedding、ControlNet用のツールモデル等を参照できるようにする\n",
        "\n",
        "↓の（▶）を押し、出現するポップアップウィンドウから\n",
        "\n",
        "　 Googleドライブに接続 → 「アカウントの選択」 → 「アクセスを許可」"
      ]
    },
    {
      "cell_type": "code",
      "execution_count": null,
      "metadata": {
        "id": "57uc9RXg2H0d"
      },
      "outputs": [],
      "source": [
        "from google.colab import drive\n",
        "drive.mount('/content/drive')"
      ]
    },
    {
      "cell_type": "markdown",
      "metadata": {
        "id": "n5imcv6kBQqY"
      },
      "source": [
        "👇【02】WEB-UIと各種_拡張機能のクローン（起動前にあらかじめ導入）※お好みで増減可能"
      ]
    },
    {
      "cell_type": "code",
      "execution_count": null,
      "metadata": {
        "id": "RSEEtcqV23j6"
      },
      "outputs": [],
      "source": [
        "# Stable Diffusion Web-UI Forge のクローン（インストール）\n",
        "!git clone https://github.com/lllyasviel/stable-diffusion-webui-forge.git\n",
        "%cd /content/stable-diffusion-webui-forge\n",
        "\n",
        "# 拡張機能リポジトリのURLリスト\n",
        "extensions = [\n",
        "    \"https://github.com/Bing-su/adetailer.git\",\n",
        "    \"https://github.com/thomasasfk/sd-webui-aspect-ratio-helper.git\",\n",
        "    \"https://github.com/Physton/sd-webui-prompt-all-in-one.git\",\n",
        "    \"https://github.com/Coyote-A/ultimate-upscale-for-automatic1111.git\",\n",
        "    \"https://github.com/DominikDoom/a1111-sd-webui-tagcomplete.git\",\n",
        "    \"https://github.com/KohakuBlueleaf/z-tipo-extension.git\",\n",
        "    \"https://github.com/lobehub/sd-webui-lobe-theme.git\",\n",
        "    \"https://github.com/Gourieff/sd-webui-reactor-sfw.git\",\n",
        "    \"https://github.com/zixaphir/Stable-Diffusion-Webui-Civitai-Helper.git\",\n",
        "]\n",
        "\n",
        "# 拡張機能のクローン処理\n",
        "%cd /content/stable-diffusion-webui-forge/extensions\n",
        "for ext in extensions:\n",
        "    !git clone {ext}\n",
        "%cd /content/stable-diffusion-webui-forge"
      ]
    },
    {
      "cell_type": "markdown",
      "metadata": {
        "id": "3w5vN2jGZOcq"
      },
      "source": [
        "👇【03】WEB-UIの起動（各種大容量データはGoogleドライブを参照する設定）\n",
        "\n",
        " ※生成した画像は自動的に/content/drive/MyDrive/StableDiffusion/outputs へ保存されます\n",
        "\n",
        " ※起動オプション追記もお好みで可能です\n",
        "\n",
        "★ ↓の（▶）で WEB-UIの「起動」「停止」「再起動」を操作します。\n",
        "\n"
      ]
    },
    {
      "cell_type": "markdown",
      "source": [],
      "metadata": {
        "id": "o8EfdoCtmC3d"
      }
    },
    {
      "cell_type": "code",
      "execution_count": null,
      "metadata": {
        "id": "epSTotC65qBC"
      },
      "outputs": [],
      "source": [
        "# 出力ディレクトリを設定するスクリプトを作成\n",
        "script_content = \"\"\"\n",
        "import os\n",
        "from modules import shared\n",
        "\n",
        "# Google Driveの出力ディレクトリを設定\n",
        "shared.opts.data['outdir_txt2img_samples'] = '/content/drive/MyDrive/StableDiffusion/outputs/txt2img-images'\n",
        "shared.opts.data['outdir_txt2img_grids'] = '/content/drive/MyDrive/StableDiffusion/outputs/txt2img-grids'\n",
        "shared.opts.data['outdir_img2img_samples'] = '/content/drive/MyDrive/StableDiffusion/outputs/img2img-images'\n",
        "shared.opts.data['outdir_img2img_grids'] = '/content/drive/MyDrive/StableDiffusion/outputs/img2img-grids'\n",
        "shared.opts.data['outdir_extras_images'] = '/content/drive/MyDrive/StableDiffusion/outputs/extras-images'\n",
        "\n",
        "print(\"出力ディレクトリの設定が完了しました。\")\n",
        "\"\"\"\n",
        "# スクリプトを保存\n",
        "script_path = \"/content/stable-diffusion-webui-forge/scripts/set_output_dir.py\"\n",
        "with open(script_path, \"w\") as f:\n",
        "    f.write(script_content)\n",
        "\n",
        "#style.csvファイルコピー ※MyDrive/StableDiffusionに保存したファイルをコピーして、登録済みのStyleをForgeで使用可能にします\n",
        "!cp \"/content/drive/MyDrive/StableDiffusion/styles.csv\" \"/content/stable-diffusion-webui-forge\"\n",
        "\n",
        "# 設定スクリプトの実行とWEB-UIの起動\n",
        "!python /content/stable-diffusion-webui-forge/scripts/set_output_dir.py\n",
        "!python launch.py --share --no-half-vae --disable-nan-check \\\n",
        "  --ckpt-dir \"/content/drive/MyDrive/StableDiffusion/checkpoints\" \\\n",
        "  --embeddings-dir \"/content/drive/MyDrive/StableDiffusion/embeddings\" \\\n",
        "  --lora-dir \"/content/drive/MyDrive/StableDiffusion/lora\" \\\n",
        "  --vae-dir \"/content/drive/MyDrive/StableDiffusion/vae\" \\\n",
        "  --controlnet-dir \"/content/drive/MyDrive/StableDiffusion/controlnet\""
      ]
    }
  ],
  "metadata": {
    "accelerator": "GPU",
    "colab": {
      "gpuType": "L4",
      "provenance": [],
      "machine_shape": "hm"
    },
    "kernelspec": {
      "display_name": "Python 3",
      "name": "python3"
    },
    "language_info": {
      "name": "python"
    }
  },
  "nbformat": 4,
  "nbformat_minor": 0
}
