{
  "cells": [
    {
      "cell_type": "markdown",
      "metadata": {
        "id": "view-in-github"
      },
      "source": [
        "<a href=\"https://colab.research.google.com/github/zasuo-michikusa/Google_Colab_StableDiffusion/blob/main/StableDiffusion_AnimateDiff_custom_ipynb_20240103.ipynb\" target=\"_parent\"><img src=\"https://colab.research.google.com/assets/colab-badge.svg\" alt=\"Open In Colab\"/></a>"
      ]
    },
    {
      "cell_type": "markdown",
      "metadata": {
        "id": "2d6jj_Vmg9_p"
      },
      "source": [
        "★事前準備★\n",
        "\n",
        "ご自分の「Googleドライブ」の「MyDrive」に 以下のフォルダ構成と\n",
        "\n",
        "任意でGoogleColab上の「Stable-Diffusion_WEB-UI（Forge）」で使用したいデータを格納してください。\n",
        "\n",
        "MyDrive\n",
        "\n",
        "└StableDiffusion\n",
        "\n",
        " 　└checkpoints　※使用したいモデルデータを格納\n",
        "\n",
        " 　└controlnet　※ツール用モデルを格納\n",
        "\n",
        " 　└embeddings　※EasyNegativeなどを格納\n",
        "\n",
        " 　└lora　※使用したいLoRAデータを格納\n",
        "\n",
        " 　└VAE　※使用したいVAEデータを格納\n",
        "\n",
        " 　└outputs　※生成データのコピー用受け皿フォルダ（フォルダのみでOK）\n",
        "\n",
        " ※A1111で使っているStyleを流用したい場合は、\n",
        "\n",
        " マイドライブの「StableDiffusion」フォルダに「styles.csv」のファイルを保存しておいてください。"
      ]
    },
    {
      "cell_type": "markdown",
      "metadata": {
        "id": "Z7-3iE4Ta8v0"
      },
      "source": [
        "★このノートブックの使い方★\n",
        "\n",
        "～～～～～～～～～～～～～～～～～～～～～～～～～～～～～～\n",
        "\n",
        "①まずメニュー項目の「ランタイム」から\n",
        " → ランタイムの変更（いずれかのGPUタイプを選択）\n",
        "\n",
        "②【01】の実行ボタン（▶）を押す、\n",
        "\n",
        "（▶）の左に✅が付いたら次の（▶）を順番に押していく\n",
        "\n",
        "※または「ランタイム」から「すべてのセルを実行」を実行する\n",
        "\n",
        "③【06】の処理が進み、 https://************.gradio.live\n",
        "と表示されたら、そのURLをクリック\n",
        "\n",
        "④WEB-UIを停止するときは【05】の（▶）を押して処理をクルクルを停止\n",
        "\n",
        "⑤再度WEB-UIを使用する際は、【05】の（▶）を押し③と同様\n",
        "\n",
        "⑥生成したデータを保存する場合は【06】の（▶）を実行\n",
        "\n",
        "～～～～～～～～～～～～～～～～～～～～～～～～～～～～～～\n",
        "\n",
        "\n",
        "以下、「StableDiffusion_AnimateDiff環境」の起動手順です。"
      ]
    },
    {
      "cell_type": "markdown",
      "metadata": {
        "id": "xaBMLZ3T6xDU"
      },
      "source": [
        "👇【01】Googleドライブのデータをこのノートブックへマウント（接続）\n",
        "\n",
        "※Googleドライブにある、checkpoint、LoRA、VAE、Embedding、ControlNet用のツールモデル等を参照できるようにする\n",
        "\n",
        "↓の（▶）を押し、出現するポップアップウィンドウから\n",
        "\n",
        "　 Googleドライブに接続 → 「アカウントの選択」 → 「アクセスを許可」"
      ]
    },
    {
      "cell_type": "code",
      "execution_count": null,
      "metadata": {
        "id": "57uc9RXg2H0d",
        "colab": {
          "base_uri": "https://localhost:8080/"
        },
        "outputId": "96f685d7-ec0f-4e0d-d930-45c51f5c0dcf"
      },
      "outputs": [
        {
          "output_type": "stream",
          "name": "stdout",
          "text": [
            "Mounted at /content/drive\n"
          ]
        }
      ],
      "source": [
        "from google.colab import drive\n",
        "drive.mount('/content/drive')"
      ]
    },
    {
      "cell_type": "markdown",
      "metadata": {
        "id": "n5imcv6kBQqY"
      },
      "source": [
        "👇【02】WEB-UIと各種_拡張機能のクローン（起動前にあらかじめ導入）※お好みで増減可能"
      ]
    },
    {
      "cell_type": "code",
      "execution_count": null,
      "metadata": {
        "id": "RSEEtcqV23j6",
        "colab": {
          "base_uri": "https://localhost:8080/"
        },
        "outputId": "a34c8d8b-eeaa-4c83-a3e5-cc9ef6603596"
      },
      "outputs": [
        {
          "output_type": "stream",
          "name": "stdout",
          "text": [
            "Cloning into 'stable-diffusion-webui-forge'...\n",
            "remote: Enumerating objects: 37946, done.\u001b[K\n",
            "remote: Counting objects: 100% (2787/2787), done.\u001b[K\n",
            "remote: Compressing objects: 100% (863/863), done.\u001b[K\n",
            "remote: Total 37946 (delta 2061), reused 2424 (delta 1878), pack-reused 35159\u001b[K\n",
            "Receiving objects: 100% (37946/37946), 43.97 MiB | 29.78 MiB/s, done.\n",
            "Resolving deltas: 100% (25962/25962), done.\n",
            "/content/stable-diffusion-webui-forge\n",
            "/content/stable-diffusion-webui-forge/extensions\n",
            "Cloning into 'Styles-Editor'...\n",
            "remote: Enumerating objects: 739, done.\u001b[K\n",
            "remote: Counting objects: 100% (223/223), done.\u001b[K\n",
            "remote: Compressing objects: 100% (135/135), done.\u001b[K\n",
            "remote: Total 739 (delta 112), reused 104 (delta 87), pack-reused 516\u001b[K\n",
            "Receiving objects: 100% (739/739), 143.52 KiB | 6.52 MiB/s, done.\n",
            "Resolving deltas: 100% (389/389), done.\n",
            "Cloning into 'adetailer'...\n",
            "remote: Enumerating objects: 2567, done.\u001b[K\n",
            "remote: Counting objects: 100% (948/948), done.\u001b[K\n",
            "remote: Compressing objects: 100% (245/245), done.\u001b[K\n",
            "remote: Total 2567 (delta 741), reused 750 (delta 678), pack-reused 1619\u001b[K\n",
            "Receiving objects: 100% (2567/2567), 363.70 KiB | 5.20 MiB/s, done.\n",
            "Resolving deltas: 100% (1497/1497), done.\n",
            "Cloning into 'sd-webui-aspect-ratio-helper'...\n",
            "remote: Enumerating objects: 254, done.\u001b[K\n",
            "remote: Counting objects: 100% (101/101), done.\u001b[K\n",
            "remote: Compressing objects: 100% (47/47), done.\u001b[K\n",
            "remote: Total 254 (delta 65), reused 68 (delta 54), pack-reused 153\u001b[K\n",
            "Receiving objects: 100% (254/254), 408.30 KiB | 10.47 MiB/s, done.\n",
            "Resolving deltas: 100% (120/120), done.\n",
            "Cloning into 'sd-webui-prompt-all-in-one'...\n",
            "remote: Enumerating objects: 4987, done.\u001b[K\n",
            "remote: Counting objects: 100% (899/899), done.\u001b[K\n",
            "remote: Compressing objects: 100% (206/206), done.\u001b[K\n",
            "remote: Total 4987 (delta 753), reused 736 (delta 693), pack-reused 4088\u001b[K\n",
            "Receiving objects: 100% (4987/4987), 20.60 MiB | 16.86 MiB/s, done.\n",
            "Resolving deltas: 100% (2952/2952), done.\n",
            "Cloning into 'ultimate-upscale-for-automatic1111'...\n",
            "remote: Enumerating objects: 323, done.\u001b[K\n",
            "remote: Counting objects: 100% (98/98), done.\u001b[K\n",
            "remote: Compressing objects: 100% (50/50), done.\u001b[K\n",
            "remote: Total 323 (delta 40), reused 84 (delta 30), pack-reused 225\u001b[K\n",
            "Receiving objects: 100% (323/323), 32.24 MiB | 21.15 MiB/s, done.\n",
            "Resolving deltas: 100% (115/115), done.\n",
            "Cloning into 'sd-webui-segment-anything'...\n",
            "remote: Enumerating objects: 1109, done.\u001b[K\n",
            "remote: Counting objects: 100% (370/370), done.\u001b[K\n",
            "remote: Compressing objects: 100% (140/140), done.\u001b[K\n",
            "remote: Total 1109 (delta 254), reused 245 (delta 229), pack-reused 739\u001b[K\n",
            "Receiving objects: 100% (1109/1109), 451.05 KiB | 4.70 MiB/s, done.\n",
            "Resolving deltas: 100% (602/602), done.\n",
            "Cloning into '/content/stable-diffusion-webui-forge/extensions/sd-webui-animatediff'...\n",
            "remote: Enumerating objects: 852, done.\u001b[K\n",
            "remote: Counting objects: 100% (852/852), done.\u001b[K\n",
            "remote: Compressing objects: 100% (301/301), done.\u001b[K\n",
            "remote: Total 852 (delta 557), reused 834 (delta 539), pack-reused 0\u001b[K\n",
            "Receiving objects: 100% (852/852), 265.35 KiB | 8.56 MiB/s, done.\n",
            "Resolving deltas: 100% (557/557), done.\n",
            "Cloning into 'sd-webui-deforum'...\n",
            "remote: Enumerating objects: 15485, done.\u001b[K\n",
            "remote: Counting objects: 100% (3603/3603), done.\u001b[K\n",
            "remote: Compressing objects: 100% (1211/1211), done.\u001b[K\n",
            "remote: Total 15485 (delta 2495), reused 3332 (delta 2374), pack-reused 11882\u001b[K\n",
            "Receiving objects: 100% (15485/15485), 129.44 MiB | 31.30 MiB/s, done.\n",
            "Resolving deltas: 100% (9685/9685), done.\n",
            "/content/stable-diffusion-webui-forge\n"
          ]
        }
      ],
      "source": [
        "# Stable Diffusion Web-UI Forge のクローン（インストール）\n",
        "!git clone https://github.com/lllyasviel/stable-diffusion-webui-forge.git\n",
        "%cd /content/stable-diffusion-webui-forge\n",
        "\n",
        "# 拡張機能リポジトリのURLリスト\n",
        "extensions = [\n",
        "    \"https://github.com/chrisgoringe/Styles-Editor.git\",\n",
        "    \"https://github.com/Bing-su/adetailer.git\",\n",
        "    \"https://github.com/thomasasfk/sd-webui-aspect-ratio-helper.git\",\n",
        "    \"https://github.com/Physton/sd-webui-prompt-all-in-one.git\",\n",
        "    \"https://github.com/Coyote-A/ultimate-upscale-for-automatic1111.git\",\n",
        "    \"https://github.com/continue-revolution/sd-webui-segment-anything.git\",\n",
        "    \"https://github.com/continue-revolution/sd-forge-animatediff.git /content/stable-diffusion-webui-forge/extensions/sd-webui-animatediff\",\n",
        "    \"https://github.com/deforum-art/sd-webui-deforum.git\"\n",
        "]\n",
        "\n",
        "# 拡張機能のクローン処理\n",
        "%cd /content/stable-diffusion-webui-forge/extensions\n",
        "for ext in extensions:\n",
        "    !git clone {ext}\n",
        "%cd /content/stable-diffusion-webui-forge"
      ]
    },
    {
      "cell_type": "markdown",
      "metadata": {
        "id": "UqQk7wCtWgzB"
      },
      "source": [
        "👇【03】MP4形式の出力用に「ffpeg」をインストール"
      ]
    },
    {
      "cell_type": "code",
      "execution_count": null,
      "metadata": {
        "id": "Y81eKNE1WJu-",
        "colab": {
          "base_uri": "https://localhost:8080/"
        },
        "outputId": "3616e9ff-e9e4-4eb9-ed54-e6453417d43b"
      },
      "outputs": [
        {
          "output_type": "stream",
          "name": "stdout",
          "text": [
            "/content/stable-diffusion-webui-forge\n",
            "/bin/bash: line 1: venvScriptsactivate: command not found\n",
            "Requirement already satisfied: imageio[ffmpeg] in /usr/local/lib/python3.10/dist-packages (2.31.6)\n",
            "Requirement already satisfied: numpy in /usr/local/lib/python3.10/dist-packages (from imageio[ffmpeg]) (1.25.2)\n",
            "Requirement already satisfied: pillow<10.1.0,>=8.3.2 in /usr/local/lib/python3.10/dist-packages (from imageio[ffmpeg]) (9.4.0)\n",
            "Requirement already satisfied: imageio-ffmpeg in /usr/local/lib/python3.10/dist-packages (from imageio[ffmpeg]) (0.4.9)\n",
            "Requirement already satisfied: psutil in /usr/local/lib/python3.10/dist-packages (from imageio[ffmpeg]) (5.9.5)\n",
            "Requirement already satisfied: setuptools in /usr/local/lib/python3.10/dist-packages (from imageio-ffmpeg->imageio[ffmpeg]) (67.7.2)\n"
          ]
        }
      ],
      "source": [
        "%cd /content/stable-diffusion-webui-forge/\n",
        "!venv\\Scripts\\activate\n",
        "!pip install imageio[ffmpeg]"
      ]
    },
    {
      "cell_type": "markdown",
      "metadata": {
        "id": "qC6V3jX_y-5A"
      },
      "source": [
        "👇【04】GoogleドライブへHugingFace、CIVITAIから各種必要なモデルデータをDL\n",
        "\n",
        "「AnimateDiff」用の「MotionModel」\n",
        "\n",
        "「SegmentAnything」用の「sam」「GroundingDINO」"
      ]
    },
    {
      "cell_type": "code",
      "execution_count": null,
      "metadata": {
        "id": "CQALw2pL_rZO",
        "colab": {
          "base_uri": "https://localhost:8080/"
        },
        "outputId": "f8c0347e-549a-47b9-a9e3-fd8b88e52132"
      },
      "outputs": [
        {
          "output_type": "stream",
          "name": "stdout",
          "text": [
            "/content/stable-diffusion-webui-forge\n",
            "--2024-05-14 09:59:25--  https://huggingface.co/conrevo/AnimateDiff-A1111/resolve/main/motion_module/mm_sd14_v1.safetensors\n",
            "Resolving huggingface.co (huggingface.co)... 18.239.50.16, 18.239.50.49, 18.239.50.80, ...\n",
            "Connecting to huggingface.co (huggingface.co)|18.239.50.16|:443... connected.\n",
            "HTTP request sent, awaiting response... 302 Found\n",
            "Location: https://cdn-lfs-us-1.huggingface.co/repos/eb/36/eb3682f47ef4d8ca29a706b4dac4d42561a0670a17f803febf9feb06ed6286ea/dc16214feab8b0d8b9e7b05f5a4d9c5e2648601e9c807c51b1b0dc7478879535?response-content-disposition=attachment%3B+filename*%3DUTF-8%27%27mm_sd14_v1.safetensors%3B+filename%3D%22mm_sd14_v1.safetensors%22%3B&Expires=1715939966&Policy=eyJTdGF0ZW1lbnQiOlt7IkNvbmRpdGlvbiI6eyJEYXRlTGVzc1RoYW4iOnsiQVdTOkVwb2NoVGltZSI6MTcxNTkzOTk2Nn19LCJSZXNvdXJjZSI6Imh0dHBzOi8vY2RuLWxmcy11cy0xLmh1Z2dpbmdmYWNlLmNvL3JlcG9zL2ViLzM2L2ViMzY4MmY0N2VmNGQ4Y2EyOWE3MDZiNGRhYzRkNDI1NjFhMDY3MGExN2Y4MDNmZWJmOWZlYjA2ZWQ2Mjg2ZWEvZGMxNjIxNGZlYWI4YjBkOGI5ZTdiMDVmNWE0ZDljNWUyNjQ4NjAxZTljODA3YzUxYjFiMGRjNzQ3ODg3OTUzNT9yZXNwb25zZS1jb250ZW50LWRpc3Bvc2l0aW9uPSoifV19&Signature=UuKjbwBghp-wHG-F1-7fi9dxj7l-EgcX-E99Lc5c2KCnwery%7EP1zasAHlMgJ0ho6uo7Gw6nGASxRiimILJN1HTnpmdwHXXeso7WdLGQi6Shy6Q9WemRMJgXZKf4aC5JgRKnnfRgOcuRsqFCRZFQPsq%7E5DTSaJHqQgNWcmqoz-%7EflnomPY%7EWqlr2jBkTQUqQRyMUDJbUSutFtDjaxlAM5LDUaniyc6%7Evg%7EbC58FpCUpXKq2znDBofiZx4MAXRDmQdKusxRK5puBmQJ2D3dDVo1dUOYJOnJ-JsvKlL894sb221LpjDFmd8ZhLczFBU7vOoPq4gs4fFNBjij6ZUlJ6pLw__&Key-Pair-Id=KCD77M1F0VK2B [following]\n",
            "--2024-05-14 09:59:26--  https://cdn-lfs-us-1.huggingface.co/repos/eb/36/eb3682f47ef4d8ca29a706b4dac4d42561a0670a17f803febf9feb06ed6286ea/dc16214feab8b0d8b9e7b05f5a4d9c5e2648601e9c807c51b1b0dc7478879535?response-content-disposition=attachment%3B+filename*%3DUTF-8%27%27mm_sd14_v1.safetensors%3B+filename%3D%22mm_sd14_v1.safetensors%22%3B&Expires=1715939966&Policy=eyJTdGF0ZW1lbnQiOlt7IkNvbmRpdGlvbiI6eyJEYXRlTGVzc1RoYW4iOnsiQVdTOkVwb2NoVGltZSI6MTcxNTkzOTk2Nn19LCJSZXNvdXJjZSI6Imh0dHBzOi8vY2RuLWxmcy11cy0xLmh1Z2dpbmdmYWNlLmNvL3JlcG9zL2ViLzM2L2ViMzY4MmY0N2VmNGQ4Y2EyOWE3MDZiNGRhYzRkNDI1NjFhMDY3MGExN2Y4MDNmZWJmOWZlYjA2ZWQ2Mjg2ZWEvZGMxNjIxNGZlYWI4YjBkOGI5ZTdiMDVmNWE0ZDljNWUyNjQ4NjAxZTljODA3YzUxYjFiMGRjNzQ3ODg3OTUzNT9yZXNwb25zZS1jb250ZW50LWRpc3Bvc2l0aW9uPSoifV19&Signature=UuKjbwBghp-wHG-F1-7fi9dxj7l-EgcX-E99Lc5c2KCnwery%7EP1zasAHlMgJ0ho6uo7Gw6nGASxRiimILJN1HTnpmdwHXXeso7WdLGQi6Shy6Q9WemRMJgXZKf4aC5JgRKnnfRgOcuRsqFCRZFQPsq%7E5DTSaJHqQgNWcmqoz-%7EflnomPY%7EWqlr2jBkTQUqQRyMUDJbUSutFtDjaxlAM5LDUaniyc6%7Evg%7EbC58FpCUpXKq2znDBofiZx4MAXRDmQdKusxRK5puBmQJ2D3dDVo1dUOYJOnJ-JsvKlL894sb221LpjDFmd8ZhLczFBU7vOoPq4gs4fFNBjij6ZUlJ6pLw__&Key-Pair-Id=KCD77M1F0VK2B\n",
            "Resolving cdn-lfs-us-1.huggingface.co (cdn-lfs-us-1.huggingface.co)... 18.239.94.84, 18.239.94.6, 18.239.94.3, ...\n",
            "Connecting to cdn-lfs-us-1.huggingface.co (cdn-lfs-us-1.huggingface.co)|18.239.94.84|:443... connected.\n",
            "HTTP request sent, awaiting response... 200 OK\n",
            "Length: 836054808 (797M) [binary/octet-stream]\n",
            "Saving to: ‘/content/stable-diffusion-webui-forge/extensions/sd-webui-animatediff/model/mm_sd14_v1.safetensors’\n",
            "\n",
            "mm_sd14_v1.safetens 100%[===================>] 797.32M   256MB/s    in 3.1s    \n",
            "\n",
            "2024-05-14 09:59:29 (256 MB/s) - ‘/content/stable-diffusion-webui-forge/extensions/sd-webui-animatediff/model/mm_sd14_v1.safetensors’ saved [836054808/836054808]\n",
            "\n",
            "--2024-05-14 09:59:29--  https://huggingface.co/conrevo/AnimateDiff-A1111/resolve/main/motion_module/mm_sd15_v1.safetensors\n",
            "Resolving huggingface.co (huggingface.co)... 18.239.50.103, 18.239.50.16, 18.239.50.49, ...\n",
            "Connecting to huggingface.co (huggingface.co)|18.239.50.103|:443... connected.\n",
            "HTTP request sent, awaiting response... 302 Found\n",
            "Location: https://cdn-lfs-us-1.huggingface.co/repos/eb/36/eb3682f47ef4d8ca29a706b4dac4d42561a0670a17f803febf9feb06ed6286ea/cb1858cebf3b0d83e056c7413fc9c43702f24f78c295a4cde1a8ba97f299f7df?response-content-disposition=attachment%3B+filename*%3DUTF-8%27%27mm_sd15_v1.safetensors%3B+filename%3D%22mm_sd15_v1.safetensors%22%3B&Expires=1715939969&Policy=eyJTdGF0ZW1lbnQiOlt7IkNvbmRpdGlvbiI6eyJEYXRlTGVzc1RoYW4iOnsiQVdTOkVwb2NoVGltZSI6MTcxNTkzOTk2OX19LCJSZXNvdXJjZSI6Imh0dHBzOi8vY2RuLWxmcy11cy0xLmh1Z2dpbmdmYWNlLmNvL3JlcG9zL2ViLzM2L2ViMzY4MmY0N2VmNGQ4Y2EyOWE3MDZiNGRhYzRkNDI1NjFhMDY3MGExN2Y4MDNmZWJmOWZlYjA2ZWQ2Mjg2ZWEvY2IxODU4Y2ViZjNiMGQ4M2UwNTZjNzQxM2ZjOWM0MzcwMmYyNGY3OGMyOTVhNGNkZTFhOGJhOTdmMjk5ZjdkZj9yZXNwb25zZS1jb250ZW50LWRpc3Bvc2l0aW9uPSoifV19&Signature=mJvbW9mhHPZsaSZzdoTWnsnktuIA1U7z3VZbmhgqB1z0W5P6Ca-N98l-zkhBNxY9kzLpLKzCBckBE3Xt-dXiY-vC%7EAln3VbBdEF9FgYJFVhNQt6-LMoUcrekERfbhCZ5lYPoz-pHTGFRrX01LZGzZ7UpbyW9Q-xJ7n5ClImNTakLKZAIoF3VfBm7ZdQNs6cehVV%7EKLBCmlCVpG14BSWCBARjecxFd6YbEJG4Va%7EUj21R0%7EznB2Z8knTvfxLaLohIPhWNJSlmFut5b0Cl4S2cnLnSmTH5jyD2WHRDJs1WKEuz6jTEHxdvnElz2vGAjxWqGvprZ%7EKIbzfCNzlaypBCQA__&Key-Pair-Id=KCD77M1F0VK2B [following]\n",
            "--2024-05-14 09:59:29--  https://cdn-lfs-us-1.huggingface.co/repos/eb/36/eb3682f47ef4d8ca29a706b4dac4d42561a0670a17f803febf9feb06ed6286ea/cb1858cebf3b0d83e056c7413fc9c43702f24f78c295a4cde1a8ba97f299f7df?response-content-disposition=attachment%3B+filename*%3DUTF-8%27%27mm_sd15_v1.safetensors%3B+filename%3D%22mm_sd15_v1.safetensors%22%3B&Expires=1715939969&Policy=eyJTdGF0ZW1lbnQiOlt7IkNvbmRpdGlvbiI6eyJEYXRlTGVzc1RoYW4iOnsiQVdTOkVwb2NoVGltZSI6MTcxNTkzOTk2OX19LCJSZXNvdXJjZSI6Imh0dHBzOi8vY2RuLWxmcy11cy0xLmh1Z2dpbmdmYWNlLmNvL3JlcG9zL2ViLzM2L2ViMzY4MmY0N2VmNGQ4Y2EyOWE3MDZiNGRhYzRkNDI1NjFhMDY3MGExN2Y4MDNmZWJmOWZlYjA2ZWQ2Mjg2ZWEvY2IxODU4Y2ViZjNiMGQ4M2UwNTZjNzQxM2ZjOWM0MzcwMmYyNGY3OGMyOTVhNGNkZTFhOGJhOTdmMjk5ZjdkZj9yZXNwb25zZS1jb250ZW50LWRpc3Bvc2l0aW9uPSoifV19&Signature=mJvbW9mhHPZsaSZzdoTWnsnktuIA1U7z3VZbmhgqB1z0W5P6Ca-N98l-zkhBNxY9kzLpLKzCBckBE3Xt-dXiY-vC%7EAln3VbBdEF9FgYJFVhNQt6-LMoUcrekERfbhCZ5lYPoz-pHTGFRrX01LZGzZ7UpbyW9Q-xJ7n5ClImNTakLKZAIoF3VfBm7ZdQNs6cehVV%7EKLBCmlCVpG14BSWCBARjecxFd6YbEJG4Va%7EUj21R0%7EznB2Z8knTvfxLaLohIPhWNJSlmFut5b0Cl4S2cnLnSmTH5jyD2WHRDJs1WKEuz6jTEHxdvnElz2vGAjxWqGvprZ%7EKIbzfCNzlaypBCQA__&Key-Pair-Id=KCD77M1F0VK2B\n",
            "Resolving cdn-lfs-us-1.huggingface.co (cdn-lfs-us-1.huggingface.co)... 18.239.94.84, 18.239.94.6, 18.239.94.3, ...\n",
            "Connecting to cdn-lfs-us-1.huggingface.co (cdn-lfs-us-1.huggingface.co)|18.239.94.84|:443... connected.\n",
            "HTTP request sent, awaiting response... 200 OK\n",
            "Length: 836054808 (797M) [binary/octet-stream]\n",
            "Saving to: ‘/content/stable-diffusion-webui-forge/extensions/sd-webui-animatediff/model/mm_sd15_v1.safetensors’\n",
            "\n",
            "mm_sd15_v1.safetens 100%[===================>] 797.32M   197MB/s    in 4.0s    \n",
            "\n",
            "2024-05-14 09:59:33 (198 MB/s) - ‘/content/stable-diffusion-webui-forge/extensions/sd-webui-animatediff/model/mm_sd15_v1.safetensors’ saved [836054808/836054808]\n",
            "\n",
            "--2024-05-14 09:59:33--  https://huggingface.co/conrevo/AnimateDiff-A1111/resolve/main/motion_module/mm_sd15_v2.safetensors\n",
            "Resolving huggingface.co (huggingface.co)... 18.239.50.80, 18.239.50.16, 18.239.50.103, ...\n",
            "Connecting to huggingface.co (huggingface.co)|18.239.50.80|:443... connected.\n",
            "HTTP request sent, awaiting response... 302 Found\n",
            "Location: https://cdn-lfs-us-1.huggingface.co/repos/eb/36/eb3682f47ef4d8ca29a706b4dac4d42561a0670a17f803febf9feb06ed6286ea/d3976a7dcd11d4f5202d5360c6f1996fc669d6114c530afb3dca4769cc6dd2b2?response-content-disposition=attachment%3B+filename*%3DUTF-8%27%27mm_sd15_v2.safetensors%3B+filename%3D%22mm_sd15_v2.safetensors%22%3B&Expires=1715939974&Policy=eyJTdGF0ZW1lbnQiOlt7IkNvbmRpdGlvbiI6eyJEYXRlTGVzc1RoYW4iOnsiQVdTOkVwb2NoVGltZSI6MTcxNTkzOTk3NH19LCJSZXNvdXJjZSI6Imh0dHBzOi8vY2RuLWxmcy11cy0xLmh1Z2dpbmdmYWNlLmNvL3JlcG9zL2ViLzM2L2ViMzY4MmY0N2VmNGQ4Y2EyOWE3MDZiNGRhYzRkNDI1NjFhMDY3MGExN2Y4MDNmZWJmOWZlYjA2ZWQ2Mjg2ZWEvZDM5NzZhN2RjZDExZDRmNTIwMmQ1MzYwYzZmMTk5NmZjNjY5ZDYxMTRjNTMwYWZiM2RjYTQ3NjljYzZkZDJiMj9yZXNwb25zZS1jb250ZW50LWRpc3Bvc2l0aW9uPSoifV19&Signature=F7qm0oWUmOkmTm7xouDyuk5z5ZfERm461mUL4EVZGKLqXrsgPrlUQTclFNW7lv3CM8LOmgBmRRxvbAONwom39sV-IxsnONQ-fCq%7EtwClzRdO3bO7dHkT95J9k6Grnnj0QSez0b3%7EUMEvEShmFDcw9T2k1EftL22ycnwCqq2OmXmCflzdPGInqukEMRhSSmpsWv2e4g1gKgF11qLW5P9DTl%7EAkyD0VgPqxF%7E86aaoS7%7EzbHQMosDlA23HGDPqzvkQF%7EirExYHEg6IGhF5W9s-bQkqUCaVrqOXZopxttkTxj3IeB%7E9bnCanoGdPKwvqKZ31Oj3H1%7EKsVtSYnjDS0FEPQ__&Key-Pair-Id=KCD77M1F0VK2B [following]\n",
            "--2024-05-14 09:59:34--  https://cdn-lfs-us-1.huggingface.co/repos/eb/36/eb3682f47ef4d8ca29a706b4dac4d42561a0670a17f803febf9feb06ed6286ea/d3976a7dcd11d4f5202d5360c6f1996fc669d6114c530afb3dca4769cc6dd2b2?response-content-disposition=attachment%3B+filename*%3DUTF-8%27%27mm_sd15_v2.safetensors%3B+filename%3D%22mm_sd15_v2.safetensors%22%3B&Expires=1715939974&Policy=eyJTdGF0ZW1lbnQiOlt7IkNvbmRpdGlvbiI6eyJEYXRlTGVzc1RoYW4iOnsiQVdTOkVwb2NoVGltZSI6MTcxNTkzOTk3NH19LCJSZXNvdXJjZSI6Imh0dHBzOi8vY2RuLWxmcy11cy0xLmh1Z2dpbmdmYWNlLmNvL3JlcG9zL2ViLzM2L2ViMzY4MmY0N2VmNGQ4Y2EyOWE3MDZiNGRhYzRkNDI1NjFhMDY3MGExN2Y4MDNmZWJmOWZlYjA2ZWQ2Mjg2ZWEvZDM5NzZhN2RjZDExZDRmNTIwMmQ1MzYwYzZmMTk5NmZjNjY5ZDYxMTRjNTMwYWZiM2RjYTQ3NjljYzZkZDJiMj9yZXNwb25zZS1jb250ZW50LWRpc3Bvc2l0aW9uPSoifV19&Signature=F7qm0oWUmOkmTm7xouDyuk5z5ZfERm461mUL4EVZGKLqXrsgPrlUQTclFNW7lv3CM8LOmgBmRRxvbAONwom39sV-IxsnONQ-fCq%7EtwClzRdO3bO7dHkT95J9k6Grnnj0QSez0b3%7EUMEvEShmFDcw9T2k1EftL22ycnwCqq2OmXmCflzdPGInqukEMRhSSmpsWv2e4g1gKgF11qLW5P9DTl%7EAkyD0VgPqxF%7E86aaoS7%7EzbHQMosDlA23HGDPqzvkQF%7EirExYHEg6IGhF5W9s-bQkqUCaVrqOXZopxttkTxj3IeB%7E9bnCanoGdPKwvqKZ31Oj3H1%7EKsVtSYnjDS0FEPQ__&Key-Pair-Id=KCD77M1F0VK2B\n",
            "Resolving cdn-lfs-us-1.huggingface.co (cdn-lfs-us-1.huggingface.co)... 18.239.94.84, 18.239.94.6, 18.239.94.3, ...\n",
            "Connecting to cdn-lfs-us-1.huggingface.co (cdn-lfs-us-1.huggingface.co)|18.239.94.84|:443... connected.\n",
            "HTTP request sent, awaiting response... 200 OK\n",
            "Length: 908929664 (867M) [binary/octet-stream]\n",
            "Saving to: ‘/content/stable-diffusion-webui-forge/extensions/sd-webui-animatediff/model/mm_sd15_v2.safetensors’\n",
            "\n",
            "mm_sd15_v2.safetens 100%[===================>] 866.82M   233MB/s    in 4.4s    \n",
            "\n",
            "2024-05-14 09:59:38 (196 MB/s) - ‘/content/stable-diffusion-webui-forge/extensions/sd-webui-animatediff/model/mm_sd15_v2.safetensors’ saved [908929664/908929664]\n",
            "\n",
            "--2024-05-14 09:59:38--  https://huggingface.co/conrevo/AnimateDiff-A1111/resolve/main/motion_module/mm_sd15_v3.safetensors\n",
            "Resolving huggingface.co (huggingface.co)... 18.239.50.80, 18.239.50.16, 18.239.50.103, ...\n",
            "Connecting to huggingface.co (huggingface.co)|18.239.50.80|:443... connected.\n",
            "HTTP request sent, awaiting response... 302 Found\n",
            "Location: https://cdn-lfs-us-1.huggingface.co/repos/eb/36/eb3682f47ef4d8ca29a706b4dac4d42561a0670a17f803febf9feb06ed6286ea/a8ca0eadb18c6ad6652bca344a458f31780901a87f765bf95a81ef9c5be55f29?response-content-disposition=attachment%3B+filename*%3DUTF-8%27%27mm_sd15_v3.safetensors%3B+filename%3D%22mm_sd15_v3.safetensors%22%3B&Expires=1715939978&Policy=eyJTdGF0ZW1lbnQiOlt7IkNvbmRpdGlvbiI6eyJEYXRlTGVzc1RoYW4iOnsiQVdTOkVwb2NoVGltZSI6MTcxNTkzOTk3OH19LCJSZXNvdXJjZSI6Imh0dHBzOi8vY2RuLWxmcy11cy0xLmh1Z2dpbmdmYWNlLmNvL3JlcG9zL2ViLzM2L2ViMzY4MmY0N2VmNGQ4Y2EyOWE3MDZiNGRhYzRkNDI1NjFhMDY3MGExN2Y4MDNmZWJmOWZlYjA2ZWQ2Mjg2ZWEvYThjYTBlYWRiMThjNmFkNjY1MmJjYTM0NGE0NThmMzE3ODA5MDFhODdmNzY1YmY5NWE4MWVmOWM1YmU1NWYyOT9yZXNwb25zZS1jb250ZW50LWRpc3Bvc2l0aW9uPSoifV19&Signature=BZmOCjg7tuOLqsa-7DdDA4anA5vjBKi8axfpCV2FbGf5jGsdo8hOxgbCyo%7Eki164pXNPlIK9bbgcZ9tcHsk9psgjQiZ5Ukmxk1%7EzII%7E39F8xP2VqR1iVIpkd8ewpnCbOHOHqmUcwC1UmYwUV2qrBUZtrQHfQg7nQvD83dY6vaADsbwmLpmF2GeveZRbbsGBQ4SOCB8SimPrqIQpwCb0F9ttLAXguO5Ow7BdU3g4XTi036H7UBNvFfcuO-c2Z4gtX7wlYlrMs092y2xiOXrnK9Xb%7EI80juPZ2-Tuk75nTPX2Cj5N3S%7E46eRRVwUGbW0785peElMSbzJVSX61hZ2IvvQ__&Key-Pair-Id=KCD77M1F0VK2B [following]\n",
            "--2024-05-14 09:59:38--  https://cdn-lfs-us-1.huggingface.co/repos/eb/36/eb3682f47ef4d8ca29a706b4dac4d42561a0670a17f803febf9feb06ed6286ea/a8ca0eadb18c6ad6652bca344a458f31780901a87f765bf95a81ef9c5be55f29?response-content-disposition=attachment%3B+filename*%3DUTF-8%27%27mm_sd15_v3.safetensors%3B+filename%3D%22mm_sd15_v3.safetensors%22%3B&Expires=1715939978&Policy=eyJTdGF0ZW1lbnQiOlt7IkNvbmRpdGlvbiI6eyJEYXRlTGVzc1RoYW4iOnsiQVdTOkVwb2NoVGltZSI6MTcxNTkzOTk3OH19LCJSZXNvdXJjZSI6Imh0dHBzOi8vY2RuLWxmcy11cy0xLmh1Z2dpbmdmYWNlLmNvL3JlcG9zL2ViLzM2L2ViMzY4MmY0N2VmNGQ4Y2EyOWE3MDZiNGRhYzRkNDI1NjFhMDY3MGExN2Y4MDNmZWJmOWZlYjA2ZWQ2Mjg2ZWEvYThjYTBlYWRiMThjNmFkNjY1MmJjYTM0NGE0NThmMzE3ODA5MDFhODdmNzY1YmY5NWE4MWVmOWM1YmU1NWYyOT9yZXNwb25zZS1jb250ZW50LWRpc3Bvc2l0aW9uPSoifV19&Signature=BZmOCjg7tuOLqsa-7DdDA4anA5vjBKi8axfpCV2FbGf5jGsdo8hOxgbCyo%7Eki164pXNPlIK9bbgcZ9tcHsk9psgjQiZ5Ukmxk1%7EzII%7E39F8xP2VqR1iVIpkd8ewpnCbOHOHqmUcwC1UmYwUV2qrBUZtrQHfQg7nQvD83dY6vaADsbwmLpmF2GeveZRbbsGBQ4SOCB8SimPrqIQpwCb0F9ttLAXguO5Ow7BdU3g4XTi036H7UBNvFfcuO-c2Z4gtX7wlYlrMs092y2xiOXrnK9Xb%7EI80juPZ2-Tuk75nTPX2Cj5N3S%7E46eRRVwUGbW0785peElMSbzJVSX61hZ2IvvQ__&Key-Pair-Id=KCD77M1F0VK2B\n",
            "Resolving cdn-lfs-us-1.huggingface.co (cdn-lfs-us-1.huggingface.co)... 18.239.94.84, 18.239.94.6, 18.239.94.3, ...\n",
            "Connecting to cdn-lfs-us-1.huggingface.co (cdn-lfs-us-1.huggingface.co)|18.239.94.84|:443... connected.\n",
            "HTTP request sent, awaiting response... 200 OK\n",
            "Length: 836618008 (798M) [binary/octet-stream]\n",
            "Saving to: ‘/content/stable-diffusion-webui-forge/extensions/sd-webui-animatediff/model/mm_sd15_v3.safetensors’\n",
            "\n",
            "mm_sd15_v3.safetens 100%[===================>] 797.86M   257MB/s    in 3.1s    \n",
            "\n",
            "2024-05-14 09:59:42 (257 MB/s) - ‘/content/stable-diffusion-webui-forge/extensions/sd-webui-animatediff/model/mm_sd15_v3.safetensors’ saved [836618008/836618008]\n",
            "\n",
            "--2024-05-14 09:59:42--  https://huggingface.co/conrevo/AnimateDiff-A1111/resolve/main/motion_module/mm_sdxl_hs.safetensors?download=true\n",
            "Resolving huggingface.co (huggingface.co)... 18.239.50.80, 18.239.50.16, 18.239.50.103, ...\n",
            "Connecting to huggingface.co (huggingface.co)|18.239.50.80|:443... connected.\n",
            "HTTP request sent, awaiting response... 302 Found\n",
            "Location: https://cdn-lfs-us-1.huggingface.co/repos/eb/36/eb3682f47ef4d8ca29a706b4dac4d42561a0670a17f803febf9feb06ed6286ea/a8345a99396e5be93e0f90ace4a78ec0bd85d2d7cf63e2aae747fe64288aab7b?response-content-disposition=attachment%3B+filename*%3DUTF-8%27%27mm_sdxl_hs.safetensors%3B+filename%3D%22mm_sdxl_hs.safetensors%22%3B&Expires=1715939982&Policy=eyJTdGF0ZW1lbnQiOlt7IkNvbmRpdGlvbiI6eyJEYXRlTGVzc1RoYW4iOnsiQVdTOkVwb2NoVGltZSI6MTcxNTkzOTk4Mn19LCJSZXNvdXJjZSI6Imh0dHBzOi8vY2RuLWxmcy11cy0xLmh1Z2dpbmdmYWNlLmNvL3JlcG9zL2ViLzM2L2ViMzY4MmY0N2VmNGQ4Y2EyOWE3MDZiNGRhYzRkNDI1NjFhMDY3MGExN2Y4MDNmZWJmOWZlYjA2ZWQ2Mjg2ZWEvYTgzNDVhOTkzOTZlNWJlOTNlMGY5MGFjZTRhNzhlYzBiZDg1ZDJkN2NmNjNlMmFhZTc0N2ZlNjQyODhhYWI3Yj9yZXNwb25zZS1jb250ZW50LWRpc3Bvc2l0aW9uPSoifV19&Signature=M6%7EKbEME4zLuuq%7E62ocn%7Ee%7Eg74Y3CxmVAKNKbeBViA2cRjllJtNAgGWzVfEtTrHtQo3T6WGnF5Xy-l0bJQ25LlPFQkBm14fnnHE-daznTHv6bsVtsAY4CALFnCDDdoOuno5TQ2A4sqtvvkILVT9-dbKRuKfb0g-ZuKw1-AaKPfS37sv9AdRRqdtPuwAP87265JcfClbGj7%7E9sefjBRK8AC5MXItfqpBmwVFeusBFuHzKUHeBw3yWNtOFM1xoFO-QtB2g%7EIe37ebTHZKD2%7EhRslL25mbq5tdq29i-7FTsHyR7M5PrjXfIaKH-mQvNW2UAeaXydeSOwcodb9r3SZK05Q__&Key-Pair-Id=KCD77M1F0VK2B [following]\n",
            "--2024-05-14 09:59:42--  https://cdn-lfs-us-1.huggingface.co/repos/eb/36/eb3682f47ef4d8ca29a706b4dac4d42561a0670a17f803febf9feb06ed6286ea/a8345a99396e5be93e0f90ace4a78ec0bd85d2d7cf63e2aae747fe64288aab7b?response-content-disposition=attachment%3B+filename*%3DUTF-8%27%27mm_sdxl_hs.safetensors%3B+filename%3D%22mm_sdxl_hs.safetensors%22%3B&Expires=1715939982&Policy=eyJTdGF0ZW1lbnQiOlt7IkNvbmRpdGlvbiI6eyJEYXRlTGVzc1RoYW4iOnsiQVdTOkVwb2NoVGltZSI6MTcxNTkzOTk4Mn19LCJSZXNvdXJjZSI6Imh0dHBzOi8vY2RuLWxmcy11cy0xLmh1Z2dpbmdmYWNlLmNvL3JlcG9zL2ViLzM2L2ViMzY4MmY0N2VmNGQ4Y2EyOWE3MDZiNGRhYzRkNDI1NjFhMDY3MGExN2Y4MDNmZWJmOWZlYjA2ZWQ2Mjg2ZWEvYTgzNDVhOTkzOTZlNWJlOTNlMGY5MGFjZTRhNzhlYzBiZDg1ZDJkN2NmNjNlMmFhZTc0N2ZlNjQyODhhYWI3Yj9yZXNwb25zZS1jb250ZW50LWRpc3Bvc2l0aW9uPSoifV19&Signature=M6%7EKbEME4zLuuq%7E62ocn%7Ee%7Eg74Y3CxmVAKNKbeBViA2cRjllJtNAgGWzVfEtTrHtQo3T6WGnF5Xy-l0bJQ25LlPFQkBm14fnnHE-daznTHv6bsVtsAY4CALFnCDDdoOuno5TQ2A4sqtvvkILVT9-dbKRuKfb0g-ZuKw1-AaKPfS37sv9AdRRqdtPuwAP87265JcfClbGj7%7E9sefjBRK8AC5MXItfqpBmwVFeusBFuHzKUHeBw3yWNtOFM1xoFO-QtB2g%7EIe37ebTHZKD2%7EhRslL25mbq5tdq29i-7FTsHyR7M5PrjXfIaKH-mQvNW2UAeaXydeSOwcodb9r3SZK05Q__&Key-Pair-Id=KCD77M1F0VK2B\n",
            "Resolving cdn-lfs-us-1.huggingface.co (cdn-lfs-us-1.huggingface.co)... 18.239.94.84, 18.239.94.6, 18.239.94.3, ...\n",
            "Connecting to cdn-lfs-us-1.huggingface.co (cdn-lfs-us-1.huggingface.co)|18.239.94.84|:443... connected.\n",
            "HTTP request sent, awaiting response... 200 OK\n",
            "Length: 474700904 (453M) [application/octet-stream]\n",
            "Saving to: ‘/content/stable-diffusion-webui-forge/extensions/sd-webui-animatediff/model/mm_sdxl_hs.safetensors?download=true’\n",
            "\n",
            "mm_sdxl_hs.safetens 100%[===================>] 452.71M   131MB/s    in 3.3s    \n",
            "\n",
            "2024-05-14 09:59:45 (139 MB/s) - ‘/content/stable-diffusion-webui-forge/extensions/sd-webui-animatediff/model/mm_sdxl_hs.safetensors?download=true’ saved [474700904/474700904]\n",
            "\n",
            "--2024-05-14 09:59:45--  https://huggingface.co/conrevo/AnimateDiff-A1111/resolve/main/motion_module/mm_sdxl_v10_beta.safetensors?download=true\n",
            "Resolving huggingface.co (huggingface.co)... 18.239.50.80, 18.239.50.16, 18.239.50.103, ...\n",
            "Connecting to huggingface.co (huggingface.co)|18.239.50.80|:443... connected.\n",
            "HTTP request sent, awaiting response... 302 Found\n",
            "Location: https://cdn-lfs-us-1.huggingface.co/repos/eb/36/eb3682f47ef4d8ca29a706b4dac4d42561a0670a17f803febf9feb06ed6286ea/deda6b381d44c3e60d410432fb5be4d7147460948e0edb55a7d5997804e5f6c3?response-content-disposition=attachment%3B+filename*%3DUTF-8%27%27mm_sdxl_v10_beta.safetensors%3B+filename%3D%22mm_sdxl_v10_beta.safetensors%22%3B&Expires=1715939985&Policy=eyJTdGF0ZW1lbnQiOlt7IkNvbmRpdGlvbiI6eyJEYXRlTGVzc1RoYW4iOnsiQVdTOkVwb2NoVGltZSI6MTcxNTkzOTk4NX19LCJSZXNvdXJjZSI6Imh0dHBzOi8vY2RuLWxmcy11cy0xLmh1Z2dpbmdmYWNlLmNvL3JlcG9zL2ViLzM2L2ViMzY4MmY0N2VmNGQ4Y2EyOWE3MDZiNGRhYzRkNDI1NjFhMDY3MGExN2Y4MDNmZWJmOWZlYjA2ZWQ2Mjg2ZWEvZGVkYTZiMzgxZDQ0YzNlNjBkNDEwNDMyZmI1YmU0ZDcxNDc0NjA5NDhlMGVkYjU1YTdkNTk5NzgwNGU1ZjZjMz9yZXNwb25zZS1jb250ZW50LWRpc3Bvc2l0aW9uPSoifV19&Signature=acGZpndNKQCxnnRduRmmEv7Dj8MJ7XjyRANyrIe%7EuymDqLXh3-DPUWf7iuA7AEiobZP3lW2AYDihcdr6PF1kXFKsTcOdfT5bswIdJ50njBYBSLs74-jyxs8Jd5toixHrPgK7ju99tm9jJfVXx8p7oLE8egphnB42hvtwZdNKpFTWh11pRkzZOInNKD5cAdHqxfCDB84Y4Hu2u5IvanGK0a9UORaFCRQ%7ELMXf6ELO0BQVwhC8g4vtDiTdiE4E2q9ogQXKX40azGqROJRHeA5s9Po9PHHRU7aMROnWvscSUffKvvmIuoEgQ7%7EYyeB1DaAaBcgvigLM97HBu52RS%7E8j-A__&Key-Pair-Id=KCD77M1F0VK2B [following]\n",
            "--2024-05-14 09:59:45--  https://cdn-lfs-us-1.huggingface.co/repos/eb/36/eb3682f47ef4d8ca29a706b4dac4d42561a0670a17f803febf9feb06ed6286ea/deda6b381d44c3e60d410432fb5be4d7147460948e0edb55a7d5997804e5f6c3?response-content-disposition=attachment%3B+filename*%3DUTF-8%27%27mm_sdxl_v10_beta.safetensors%3B+filename%3D%22mm_sdxl_v10_beta.safetensors%22%3B&Expires=1715939985&Policy=eyJTdGF0ZW1lbnQiOlt7IkNvbmRpdGlvbiI6eyJEYXRlTGVzc1RoYW4iOnsiQVdTOkVwb2NoVGltZSI6MTcxNTkzOTk4NX19LCJSZXNvdXJjZSI6Imh0dHBzOi8vY2RuLWxmcy11cy0xLmh1Z2dpbmdmYWNlLmNvL3JlcG9zL2ViLzM2L2ViMzY4MmY0N2VmNGQ4Y2EyOWE3MDZiNGRhYzRkNDI1NjFhMDY3MGExN2Y4MDNmZWJmOWZlYjA2ZWQ2Mjg2ZWEvZGVkYTZiMzgxZDQ0YzNlNjBkNDEwNDMyZmI1YmU0ZDcxNDc0NjA5NDhlMGVkYjU1YTdkNTk5NzgwNGU1ZjZjMz9yZXNwb25zZS1jb250ZW50LWRpc3Bvc2l0aW9uPSoifV19&Signature=acGZpndNKQCxnnRduRmmEv7Dj8MJ7XjyRANyrIe%7EuymDqLXh3-DPUWf7iuA7AEiobZP3lW2AYDihcdr6PF1kXFKsTcOdfT5bswIdJ50njBYBSLs74-jyxs8Jd5toixHrPgK7ju99tm9jJfVXx8p7oLE8egphnB42hvtwZdNKpFTWh11pRkzZOInNKD5cAdHqxfCDB84Y4Hu2u5IvanGK0a9UORaFCRQ%7ELMXf6ELO0BQVwhC8g4vtDiTdiE4E2q9ogQXKX40azGqROJRHeA5s9Po9PHHRU7aMROnWvscSUffKvvmIuoEgQ7%7EYyeB1DaAaBcgvigLM97HBu52RS%7E8j-A__&Key-Pair-Id=KCD77M1F0VK2B\n",
            "Resolving cdn-lfs-us-1.huggingface.co (cdn-lfs-us-1.huggingface.co)... 18.239.94.84, 18.239.94.6, 18.239.94.3, ...\n",
            "Connecting to cdn-lfs-us-1.huggingface.co (cdn-lfs-us-1.huggingface.co)|18.239.94.84|:443... connected.\n",
            "HTTP request sent, awaiting response... 200 OK\n",
            "Length: 475059304 (453M) [application/octet-stream]\n",
            "Saving to: ‘/content/stable-diffusion-webui-forge/extensions/sd-webui-animatediff/model/mm_sdxl_v10_beta.safetensors?download=true’\n",
            "\n",
            "mm_sdxl_v10_beta.sa 100%[===================>] 453.05M   119MB/s    in 3.5s    \n",
            "\n",
            "2024-05-14 09:59:49 (130 MB/s) - ‘/content/stable-diffusion-webui-forge/extensions/sd-webui-animatediff/model/mm_sdxl_v10_beta.safetensors?download=true’ saved [475059304/475059304]\n",
            "\n",
            "--2024-05-14 09:59:49--  https://dl.fbaipublicfiles.com/segment_anything/sam_vit_h_4b8939.pth\n",
            "Resolving dl.fbaipublicfiles.com (dl.fbaipublicfiles.com)... 13.227.219.10, 13.227.219.70, 13.227.219.59, ...\n",
            "Connecting to dl.fbaipublicfiles.com (dl.fbaipublicfiles.com)|13.227.219.10|:443... connected.\n",
            "HTTP request sent, awaiting response... 200 OK\n",
            "Length: 2564550879 (2.4G) [binary/octet-stream]\n",
            "Saving to: ‘/content/stable-diffusion-webui-forge/extensions/sd-webui-segment-anything/models/sam/sam_vit_h_4b8939.pth’\n",
            "\n",
            "sam_vit_h_4b8939.pt 100%[===================>]   2.39G   165MB/s    in 16s     \n",
            "\n",
            "2024-05-14 10:00:05 (157 MB/s) - ‘/content/stable-diffusion-webui-forge/extensions/sd-webui-segment-anything/models/sam/sam_vit_h_4b8939.pth’ saved [2564550879/2564550879]\n",
            "\n",
            "--2024-05-14 10:00:05--  https://huggingface.co/ShilongLiu/GroundingDINO/resolve/main/GroundingDINO_SwinB.cfg.py?download=true\n",
            "Resolving huggingface.co (huggingface.co)... 18.239.50.80, 18.239.50.49, 18.239.50.16, ...\n",
            "Connecting to huggingface.co (huggingface.co)|18.239.50.80|:443... connected.\n",
            "HTTP request sent, awaiting response... 200 OK\n",
            "Length: 1007 [text/plain]\n",
            "Saving to: ‘/content/stable-diffusion-webui-forge/extensions/sd-webui-segment-anything/models/grounding-dino/GroundingDINO_SwinB.cfg.py?download=true’\n",
            "\n",
            "GroundingDINO_SwinB 100%[===================>]    1007  --.-KB/s    in 0s      \n",
            "\n",
            "2024-05-14 10:00:05 (294 MB/s) - ‘/content/stable-diffusion-webui-forge/extensions/sd-webui-segment-anything/models/grounding-dino/GroundingDINO_SwinB.cfg.py?download=true’ saved [1007/1007]\n",
            "\n",
            "--2024-05-14 10:00:05--  https://huggingface.co/ShilongLiu/GroundingDINO/resolve/main/GroundingDINO_SwinT_OGC.cfg.py?download=true\n",
            "Resolving huggingface.co (huggingface.co)... 18.239.50.103, 18.239.50.49, 18.239.50.16, ...\n",
            "Connecting to huggingface.co (huggingface.co)|18.239.50.103|:443... connected.\n",
            "HTTP request sent, awaiting response... 200 OK\n",
            "Length: 1006 [text/plain]\n",
            "Saving to: ‘/content/stable-diffusion-webui-forge/extensions/sd-webui-segment-anything/models/grounding-dino/GroundingDINO_SwinT_OGC.cfg.py?download=true’\n",
            "\n",
            "GroundingDINO_SwinT 100%[===================>]    1006  --.-KB/s    in 0s      \n",
            "\n",
            "2024-05-14 10:00:05 (443 MB/s) - ‘/content/stable-diffusion-webui-forge/extensions/sd-webui-segment-anything/models/grounding-dino/GroundingDINO_SwinT_OGC.cfg.py?download=true’ saved [1006/1006]\n",
            "\n",
            "--2024-05-14 10:00:05--  https://huggingface.co/ShilongLiu/GroundingDINO/resolve/main/groundingdino_swint_ogc.pth?download=true\n",
            "Resolving huggingface.co (huggingface.co)... 18.239.50.103, 18.239.50.80, 18.239.50.49, ...\n",
            "Connecting to huggingface.co (huggingface.co)|18.239.50.103|:443... connected.\n",
            "HTTP request sent, awaiting response... 302 Found\n",
            "Location: https://cdn-lfs.huggingface.co/repos/74/12/7412fdcd8b26caa1c47919c53fafeb25db279907c51c15d923d8526a874dd651/3b3ca2563c77c69f651d7bd133e97139c186df06231157a64c507099c52bc799?response-content-disposition=attachment%3B+filename*%3DUTF-8%27%27groundingdino_swint_ogc.pth%3B+filename%3D%22groundingdino_swint_ogc.pth%22%3B&Expires=1715940005&Policy=eyJTdGF0ZW1lbnQiOlt7IkNvbmRpdGlvbiI6eyJEYXRlTGVzc1RoYW4iOnsiQVdTOkVwb2NoVGltZSI6MTcxNTk0MDAwNX19LCJSZXNvdXJjZSI6Imh0dHBzOi8vY2RuLWxmcy5odWdnaW5nZmFjZS5jby9yZXBvcy83NC8xMi83NDEyZmRjZDhiMjZjYWExYzQ3OTE5YzUzZmFmZWIyNWRiMjc5OTA3YzUxYzE1ZDkyM2Q4NTI2YTg3NGRkNjUxLzNiM2NhMjU2M2M3N2M2OWY2NTFkN2JkMTMzZTk3MTM5YzE4NmRmMDYyMzExNTdhNjRjNTA3MDk5YzUyYmM3OTk%7EcmVzcG9uc2UtY29udGVudC1kaXNwb3NpdGlvbj0qIn1dfQ__&Signature=n55soRBmotaauk6Cz5Cyxg4rHs8Ofz3yUefG0kRtzZr-uto970oTnmrT4-513nJh6YeNwJgi3DGorSsVTvJtsL2UW77dSsZQoTDYHpuop%7EvMxLxY6A%7EQxfACE33M2ZpLP4dVwV94gSWiWzvlMAcavLYZzw0HOo3vSLDsCbYz%7EsH7LowEoEPK2aRx7KN7KOUnX5xVJtYqpr5wKvILMDyquAU2HiOO2e1OfyXixna83DJnKXGOtmfE3vaqZq%7E5fJrAuzP1ZGX7nUlF4WvnVDEY0IhDMg5XVa4cLRzA4rZ3qMpy-3oPFygyAWI90aSqdCCrNJ4-3FlsoLx4okmYbEZNuA__&Key-Pair-Id=KVTP0A1DKRTAX [following]\n",
            "--2024-05-14 10:00:05--  https://cdn-lfs.huggingface.co/repos/74/12/7412fdcd8b26caa1c47919c53fafeb25db279907c51c15d923d8526a874dd651/3b3ca2563c77c69f651d7bd133e97139c186df06231157a64c507099c52bc799?response-content-disposition=attachment%3B+filename*%3DUTF-8%27%27groundingdino_swint_ogc.pth%3B+filename%3D%22groundingdino_swint_ogc.pth%22%3B&Expires=1715940005&Policy=eyJTdGF0ZW1lbnQiOlt7IkNvbmRpdGlvbiI6eyJEYXRlTGVzc1RoYW4iOnsiQVdTOkVwb2NoVGltZSI6MTcxNTk0MDAwNX19LCJSZXNvdXJjZSI6Imh0dHBzOi8vY2RuLWxmcy5odWdnaW5nZmFjZS5jby9yZXBvcy83NC8xMi83NDEyZmRjZDhiMjZjYWExYzQ3OTE5YzUzZmFmZWIyNWRiMjc5OTA3YzUxYzE1ZDkyM2Q4NTI2YTg3NGRkNjUxLzNiM2NhMjU2M2M3N2M2OWY2NTFkN2JkMTMzZTk3MTM5YzE4NmRmMDYyMzExNTdhNjRjNTA3MDk5YzUyYmM3OTk%7EcmVzcG9uc2UtY29udGVudC1kaXNwb3NpdGlvbj0qIn1dfQ__&Signature=n55soRBmotaauk6Cz5Cyxg4rHs8Ofz3yUefG0kRtzZr-uto970oTnmrT4-513nJh6YeNwJgi3DGorSsVTvJtsL2UW77dSsZQoTDYHpuop%7EvMxLxY6A%7EQxfACE33M2ZpLP4dVwV94gSWiWzvlMAcavLYZzw0HOo3vSLDsCbYz%7EsH7LowEoEPK2aRx7KN7KOUnX5xVJtYqpr5wKvILMDyquAU2HiOO2e1OfyXixna83DJnKXGOtmfE3vaqZq%7E5fJrAuzP1ZGX7nUlF4WvnVDEY0IhDMg5XVa4cLRzA4rZ3qMpy-3oPFygyAWI90aSqdCCrNJ4-3FlsoLx4okmYbEZNuA__&Key-Pair-Id=KVTP0A1DKRTAX\n",
            "Resolving cdn-lfs.huggingface.co (cdn-lfs.huggingface.co)... 18.239.18.84, 18.239.18.68, 18.239.18.94, ...\n",
            "Connecting to cdn-lfs.huggingface.co (cdn-lfs.huggingface.co)|18.239.18.84|:443... connected.\n",
            "HTTP request sent, awaiting response... 200 OK\n",
            "Length: 693997677 (662M) [binary/octet-stream]\n",
            "Saving to: ‘/content/stable-diffusion-webui-forge/extensions/sd-webui-segment-anything/models/grounding-dino/groundingdino_swint_ogc.pth?download=true’\n",
            "\n",
            "groundingdino_swint 100%[===================>] 661.85M   187MB/s    in 3.5s    \n",
            "\n",
            "2024-05-14 10:00:09 (191 MB/s) - ‘/content/stable-diffusion-webui-forge/extensions/sd-webui-segment-anything/models/grounding-dino/groundingdino_swint_ogc.pth?download=true’ saved [693997677/693997677]\n",
            "\n",
            "--2024-05-14 10:00:09--  https://huggingface.co/ShilongLiu/GroundingDINO/resolve/main/groundingdino_swinb_cogcoor.pth?download=true\n",
            "Resolving huggingface.co (huggingface.co)... 18.239.50.103, 18.239.50.80, 18.239.50.49, ...\n",
            "Connecting to huggingface.co (huggingface.co)|18.239.50.103|:443... connected.\n",
            "HTTP request sent, awaiting response... 302 Found\n",
            "Location: https://cdn-lfs.huggingface.co/repos/74/12/7412fdcd8b26caa1c47919c53fafeb25db279907c51c15d923d8526a874dd651/46270f7a822e6906b655b729c90613e48929d0f2bb8b9b76fd10a856f3ac6ab7?response-content-disposition=attachment%3B+filename*%3DUTF-8%27%27groundingdino_swinb_cogcoor.pth%3B+filename%3D%22groundingdino_swinb_cogcoor.pth%22%3B&Expires=1715940009&Policy=eyJTdGF0ZW1lbnQiOlt7IkNvbmRpdGlvbiI6eyJEYXRlTGVzc1RoYW4iOnsiQVdTOkVwb2NoVGltZSI6MTcxNTk0MDAwOX19LCJSZXNvdXJjZSI6Imh0dHBzOi8vY2RuLWxmcy5odWdnaW5nZmFjZS5jby9yZXBvcy83NC8xMi83NDEyZmRjZDhiMjZjYWExYzQ3OTE5YzUzZmFmZWIyNWRiMjc5OTA3YzUxYzE1ZDkyM2Q4NTI2YTg3NGRkNjUxLzQ2MjcwZjdhODIyZTY5MDZiNjU1YjcyOWM5MDYxM2U0ODkyOWQwZjJiYjhiOWI3NmZkMTBhODU2ZjNhYzZhYjc%7EcmVzcG9uc2UtY29udGVudC1kaXNwb3NpdGlvbj0qIn1dfQ__&Signature=bZdITqz9c7YxZ6ikFifMyUHAx2iiz54nLFKpoBrbR60gO%7Eh6YF5Escpkg%7EUqLjZPK7kva-mIRSGMhyylu-awlYSoWL5z4IA5cN6DIZmA-TIMLCtIOFvpT9s4IewoQ26H-DnwxBe8X5m9E75O8db4NfjLg6Jsz6ygXSJh-HgY%7EVF0O4freETzNqCjn2vEwFnV4sJVbAwMuJi86DmlBjmDPrcfhfG73nAMvo7W0Rz0cCt7KhrfVgeQMVN11oxQxeo4gZ3q%7EPgPseAkqd6-dQa54%7EjBOyIY%7EGfKHb3h3pFNiyo9eS84PepuSQ%7E47izcRULnIG9TlXIVWJq6DdEgllHTCg__&Key-Pair-Id=KVTP0A1DKRTAX [following]\n",
            "--2024-05-14 10:00:09--  https://cdn-lfs.huggingface.co/repos/74/12/7412fdcd8b26caa1c47919c53fafeb25db279907c51c15d923d8526a874dd651/46270f7a822e6906b655b729c90613e48929d0f2bb8b9b76fd10a856f3ac6ab7?response-content-disposition=attachment%3B+filename*%3DUTF-8%27%27groundingdino_swinb_cogcoor.pth%3B+filename%3D%22groundingdino_swinb_cogcoor.pth%22%3B&Expires=1715940009&Policy=eyJTdGF0ZW1lbnQiOlt7IkNvbmRpdGlvbiI6eyJEYXRlTGVzc1RoYW4iOnsiQVdTOkVwb2NoVGltZSI6MTcxNTk0MDAwOX19LCJSZXNvdXJjZSI6Imh0dHBzOi8vY2RuLWxmcy5odWdnaW5nZmFjZS5jby9yZXBvcy83NC8xMi83NDEyZmRjZDhiMjZjYWExYzQ3OTE5YzUzZmFmZWIyNWRiMjc5OTA3YzUxYzE1ZDkyM2Q4NTI2YTg3NGRkNjUxLzQ2MjcwZjdhODIyZTY5MDZiNjU1YjcyOWM5MDYxM2U0ODkyOWQwZjJiYjhiOWI3NmZkMTBhODU2ZjNhYzZhYjc%7EcmVzcG9uc2UtY29udGVudC1kaXNwb3NpdGlvbj0qIn1dfQ__&Signature=bZdITqz9c7YxZ6ikFifMyUHAx2iiz54nLFKpoBrbR60gO%7Eh6YF5Escpkg%7EUqLjZPK7kva-mIRSGMhyylu-awlYSoWL5z4IA5cN6DIZmA-TIMLCtIOFvpT9s4IewoQ26H-DnwxBe8X5m9E75O8db4NfjLg6Jsz6ygXSJh-HgY%7EVF0O4freETzNqCjn2vEwFnV4sJVbAwMuJi86DmlBjmDPrcfhfG73nAMvo7W0Rz0cCt7KhrfVgeQMVN11oxQxeo4gZ3q%7EPgPseAkqd6-dQa54%7EjBOyIY%7EGfKHb3h3pFNiyo9eS84PepuSQ%7E47izcRULnIG9TlXIVWJq6DdEgllHTCg__&Key-Pair-Id=KVTP0A1DKRTAX\n",
            "Resolving cdn-lfs.huggingface.co (cdn-lfs.huggingface.co)... 18.239.18.84, 18.239.18.68, 18.239.18.94, ...\n",
            "Connecting to cdn-lfs.huggingface.co (cdn-lfs.huggingface.co)|18.239.18.84|:443... connected.\n",
            "HTTP request sent, awaiting response... 200 OK\n",
            "Length: 938057991 (895M) [binary/octet-stream]\n",
            "Saving to: ‘/content/stable-diffusion-webui-forge/extensions/sd-webui-segment-anything/models/grounding-dino/groundingdino_swinb_cogcoor.pth?download=true’\n",
            "\n",
            "groundingdino_swinb 100%[===================>] 894.60M   121MB/s    in 7.2s    \n",
            "\n",
            "2024-05-14 10:00:16 (124 MB/s) - ‘/content/stable-diffusion-webui-forge/extensions/sd-webui-segment-anything/models/grounding-dino/groundingdino_swinb_cogcoor.pth?download=true’ saved [938057991/938057991]\n",
            "\n"
          ]
        }
      ],
      "source": [
        "%cd /content/stable-diffusion-webui-forge/\n",
        "!wget https://huggingface.co/conrevo/AnimateDiff-A1111/resolve/main/motion_module/mm_sd14_v1.safetensors --directory-prefix=/content/stable-diffusion-webui-forge/extensions/sd-webui-animatediff/model\n",
        "!wget https://huggingface.co/conrevo/AnimateDiff-A1111/resolve/main/motion_module/mm_sd15_v1.safetensors --directory-prefix=/content/stable-diffusion-webui-forge/extensions/sd-webui-animatediff/model\n",
        "!wget https://huggingface.co/conrevo/AnimateDiff-A1111/resolve/main/motion_module/mm_sd15_v2.safetensors --directory-prefix=/content/stable-diffusion-webui-forge/extensions/sd-webui-animatediff/model\n",
        "!wget https://huggingface.co/conrevo/AnimateDiff-A1111/resolve/main/motion_module/mm_sd15_v3.safetensors --directory-prefix=/content/stable-diffusion-webui-forge/extensions/sd-webui-animatediff/model\n",
        "!wget https://huggingface.co/conrevo/AnimateDiff-A1111/resolve/main/motion_module/mm_sdxl_hs.safetensors?download=true --directory-prefix=/content/stable-diffusion-webui-forge/extensions/sd-webui-animatediff/model\n",
        "!wget https://huggingface.co/conrevo/AnimateDiff-A1111/resolve/main/motion_module/mm_sdxl_v10_beta.safetensors?download=true --directory-prefix=/content/stable-diffusion-webui-forge/extensions/sd-webui-animatediff/model\n",
        "!wget https://dl.fbaipublicfiles.com/segment_anything/sam_vit_h_4b8939.pth --directory-prefix=/content/stable-diffusion-webui-forge/extensions/sd-webui-segment-anything/models/sam\n",
        "!wget https://huggingface.co/ShilongLiu/GroundingDINO/resolve/main/GroundingDINO_SwinB.cfg.py?download=true --directory-prefix=/content/stable-diffusion-webui-forge/extensions/sd-webui-segment-anything/models/grounding-dino\n",
        "!wget https://huggingface.co/ShilongLiu/GroundingDINO/resolve/main/GroundingDINO_SwinT_OGC.cfg.py?download=true --directory-prefix=/content/stable-diffusion-webui-forge/extensions/sd-webui-segment-anything/models/grounding-dino\n",
        "!wget https://huggingface.co/ShilongLiu/GroundingDINO/resolve/main/groundingdino_swint_ogc.pth?download=true --directory-prefix=/content/stable-diffusion-webui-forge/extensions/sd-webui-segment-anything/models/grounding-dino\n",
        "!wget https://huggingface.co/ShilongLiu/GroundingDINO/resolve/main/groundingdino_swinb_cogcoor.pth?download=true --directory-prefix=/content/stable-diffusion-webui-forge/extensions/sd-webui-segment-anything/models/grounding-dino\n",
        "\n",
        "#下記必要な場合は場合は先頭の「!wget」の前の「#」を削除して有効化してください\n",
        "\n",
        "#StableVideoDiffsion用のモデル\n",
        "#!wget https://civitai.com/api/download/models/329995 --directory-prefix=/content/stable-diffusion-webui-forge/models/svd\n",
        "\n",
        "#Zero123用のモデル\n",
        "#!wget https://huggingface.co/stabilityai/stable-zero123/resolve/main/stable_zero123.ckpt?download=true --directory-prefix=/content/stable-diffusion-webui-forge/models/z123\n"
      ]
    },
    {
      "cell_type": "markdown",
      "metadata": {
        "id": "3w5vN2jGZOcq"
      },
      "source": [
        "👇【05】WEB-UIの起動（各種大容量データはGoogleドライブを参照する設定）\n",
        "\n",
        " ※生成した画像は自動的に/content/drive/MyDrive/StableDiffusion/outputs へ保存されます\n",
        "\n",
        " ※起動オプション追記もお好みで可能です\n",
        "\n",
        "★ ↓の（▶）で WEB-UIの「起動」「停止」「再起動」を操作します。\n",
        "\n"
      ]
    },
    {
      "cell_type": "markdown",
      "source": [],
      "metadata": {
        "id": "o8EfdoCtmC3d"
      }
    },
    {
      "cell_type": "code",
      "execution_count": null,
      "metadata": {
        "id": "epSTotC65qBC",
        "colab": {
          "base_uri": "https://localhost:8080/"
        },
        "outputId": "08a4a371-a1e9-475e-9467-61eaf06a2d16"
      },
      "outputs": [
        {
          "output_type": "stream",
          "name": "stdout",
          "text": [
            "Traceback (most recent call last):\n",
            "  File \"/content/stable-diffusion-webui-forge/scripts/set_output_dir.py\", line 3, in <module>\n",
            "    from modules import shared\n",
            "ModuleNotFoundError: No module named 'modules'\n",
            "Python 3.10.12 (main, Nov 20 2023, 15:14:05) [GCC 11.4.0]\n",
            "Version: f0.0.17v1.8.0rc-latest-276-g29be1da7\n",
            "Commit hash: 29be1da7cf2b5dccfc70fbdd33eb35c56a31ffb7\n",
            "Collecting protobuf<=3.9999,>=3.20\n",
            "  Using cached protobuf-3.20.3-cp310-cp310-manylinux_2_12_x86_64.manylinux2010_x86_64.whl (1.1 MB)\n",
            "Installing collected packages: protobuf\n",
            "  Attempting uninstall: protobuf\n",
            "    Found existing installation: protobuf 4.25.3\n",
            "    Uninstalling protobuf-4.25.3:\n",
            "      Successfully uninstalled protobuf-4.25.3\n",
            "Successfully installed protobuf-3.20.3\n",
            "Legacy Preprocessor init warning: Unable to install insightface automatically. Please try run `pip install insightface` manually.\n",
            "Launching Web UI with arguments: --share --no-half-vae --disable-nan-check --ckpt-dir /content/drive/MyDrive/StableDiffusion/checkpoints --embeddings-dir /content/drive/MyDrive/StableDiffusion/embeddings --lora-dir /content/drive/MyDrive/StableDiffusion/lora --vae-dir /content/drive/MyDrive/StableDiffusion/vae --controlnet-dir /content/drive/MyDrive/StableDiffusion/controlnet\n",
            "Total VRAM 16151 MB, total RAM 12979 MB\n",
            "Set vram state to: NORMAL_VRAM\n",
            "Device: cuda:0 Tesla V100-SXM2-16GB : native\n",
            "VAE dtype: torch.float32\n",
            "CUDA Stream Activated:  False\n",
            "2024-05-14 10:14:42.246777: E external/local_xla/xla/stream_executor/cuda/cuda_dnn.cc:9261] Unable to register cuDNN factory: Attempting to register factory for plugin cuDNN when one has already been registered\n",
            "2024-05-14 10:14:42.246873: E external/local_xla/xla/stream_executor/cuda/cuda_fft.cc:607] Unable to register cuFFT factory: Attempting to register factory for plugin cuFFT when one has already been registered\n",
            "2024-05-14 10:14:42.396928: E external/local_xla/xla/stream_executor/cuda/cuda_blas.cc:1515] Unable to register cuBLAS factory: Attempting to register factory for plugin cuBLAS when one has already been registered\n",
            "2024-05-14 10:14:45.355254: W tensorflow/compiler/tf2tensorrt/utils/py_utils.cc:38] TF-TRT Warning: Could not find TensorRT\n",
            "Using pytorch cross attention\n",
            "出力ディレクトリの設定が完了しました。\n",
            "ControlNet preprocessor location: /content/stable-diffusion-webui-forge/models/ControlNetPreprocessor\n",
            "\u001b[1m[\u001b[0m-\u001b[1m]\u001b[0m ADetailer initialized. version: \u001b[1;36m24.4\u001b[0m.\u001b[1;36m2\u001b[0m, num models: \u001b[1;36m10\u001b[0m\n",
            "sd-webui-prompt-all-in-one background API service started successfully.\n",
            "2024-05-14 10:15:03,743 - AnimateDiff - \u001b[0;32mINFO\u001b[0m - AnimateDiff Hooking i2i_batch\n",
            "Loading weights [5a44dad2e0] from /content/drive/MyDrive/StableDiffusion/checkpoints/awpainting_v13.safetensors\n",
            "model_type EPS\n",
            "UNet ADM Dimension 0\n",
            "Using pytorch attention in VAE\n",
            "Working with z of shape (1, 4, 32, 32) = 4096 dimensions.\n",
            "Using pytorch attention in VAE\n",
            "extra {'cond_stage_model.clip_l.logit_scale', 'cond_stage_model.clip_l.text_projection'}\n",
            "left over keys: dict_keys(['model_ema.decay', 'model_ema.num_updates'])\n",
            "loaded straight to GPU\n",
            "To load target model BaseModel\n",
            "Begin to load 1 model\n",
            "[Memory Management] Current Free GPU Memory (MB) =  14132.41162109375\n",
            "[Memory Management] Model Memory (MB) =  0.00762939453125\n",
            "[Memory Management] Minimal Inference Memory (MB) =  1024.0\n",
            "[Memory Management] Estimated Remaining GPU Memory (MB) =  13108.403991699219\n",
            "Moving model(s) has taken 0.02 seconds\n",
            "To load target model SD1ClipModel\n",
            "Begin to load 1 model\n",
            "[Memory Management] Current Free GPU Memory (MB) =  14131.96728515625\n",
            "[Memory Management] Model Memory (MB) =  454.2076225280762\n",
            "[Memory Management] Minimal Inference Memory (MB) =  1024.0\n",
            "[Memory Management] Estimated Remaining GPU Memory (MB) =  12653.759662628174\n",
            "Moving model(s) has taken 0.09 seconds\n",
            "Model loaded in 16.5s (load weights from disk: 1.2s, forge load real models: 14.0s, load VAE: 0.1s, calculate empty prompt: 1.1s).\n",
            "2024-05-14 10:15:21,366 - ControlNet - \u001b[0;32mINFO\u001b[0m - ControlNet UI callback registered.\n",
            "Running on local URL:  http://127.0.0.1:7860\n",
            "Running on public URL: https://d3a17d82058c6321a8.gradio.live\n",
            "\n",
            "This share link expires in 72 hours. For free permanent hosting and GPU upgrades, run `gradio deploy` from Terminal to deploy to Spaces (https://huggingface.co/spaces)\n",
            "Startup time: 79.3s (prepare environment: 22.3s, import torch: 9.5s, import gradio: 2.6s, setup paths: 11.0s, initialize shared: 0.1s, other imports: 1.5s, list SD models: 0.4s, load scripts: 11.7s, scripts list_optimizers: 0.1s, create ui: 18.5s, gradio launch: 1.5s, app_started_callback: 0.2s).\n",
            "Interrupted with signal 2 in <frame at 0x7a877f4bbc40, file '/content/stable-diffusion-webui-forge/modules_forge/main_thread.py', line 32, code loop>\n"
          ]
        }
      ],
      "source": [
        "# 出力ディレクトリを設定するスクリプトを作成\n",
        "script_content = \"\"\"\n",
        "import os\n",
        "from modules import shared\n",
        "\n",
        "# Google Driveの出力ディレクトリを設定\n",
        "shared.opts.data['outdir_txt2img_samples'] = '/content/drive/MyDrive/StableDiffusion/outputs/txt2img-images'\n",
        "shared.opts.data['outdir_txt2img_grids'] = '/content/drive/MyDrive/StableDiffusion/outputs/txt2img-grids'\n",
        "shared.opts.data['outdir_img2img_samples'] = '/content/drive/MyDrive/StableDiffusion/outputs/img2img-images'\n",
        "shared.opts.data['outdir_img2img_grids'] = '/content/drive/MyDrive/StableDiffusion/outputs/img2img-grids'\n",
        "shared.opts.data['outdir_extras_images'] = '/content/drive/MyDrive/StableDiffusion/outputs/extras-images'\n",
        "\n",
        "print(\"出力ディレクトリの設定が完了しました。\")\n",
        "\"\"\"\n",
        "# スクリプトを保存\n",
        "script_path = \"/content/stable-diffusion-webui-forge/scripts/set_output_dir.py\"\n",
        "with open(script_path, \"w\") as f:\n",
        "    f.write(script_content)\n",
        "\n",
        "#style.csvファイルコピー ※MyDrive/StableDiffusionに保存したファイルをコピーして、登録済みのStyleをForgeで使用可能にします\n",
        "!cp \"/content/drive/MyDrive/StableDiffusion/styles.csv\" \"/content/stable-diffusion-webui-forge\"\n",
        "\n",
        "# 設定スクリプトの実行とWEB-UIの起動\n",
        "!python /content/stable-diffusion-webui-forge/scripts/set_output_dir.py\n",
        "!python launch.py --share --no-half-vae --disable-nan-check \\\n",
        "  --ckpt-dir \"/content/drive/MyDrive/StableDiffusion/checkpoints\" \\\n",
        "  --embeddings-dir \"/content/drive/MyDrive/StableDiffusion/embeddings\" \\\n",
        "  --lora-dir \"/content/drive/MyDrive/StableDiffusion/lora\" \\\n",
        "  --vae-dir \"/content/drive/MyDrive/StableDiffusion/vae\" \\\n",
        "  --controlnet-dir \"/content/drive/MyDrive/StableDiffusion/controlnet\""
      ]
    }
  ],
  "metadata": {
    "accelerator": "GPU",
    "colab": {
      "gpuType": "V100",
      "provenance": []
    },
    "kernelspec": {
      "display_name": "Python 3",
      "name": "python3"
    },
    "language_info": {
      "name": "python"
    }
  },
  "nbformat": 4,
  "nbformat_minor": 0
}